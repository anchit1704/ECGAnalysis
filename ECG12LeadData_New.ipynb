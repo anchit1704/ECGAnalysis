{
  "cells": [
    {
      "cell_type": "code",
      "source": [
        "from google.colab import drive\n",
        "drive.mount('/content/drive')"
      ],
      "metadata": {
        "id": "0o_3FituhfbC",
        "colab": {
          "base_uri": "https://localhost:8080/"
        },
        "outputId": "9abcb748-c966-4e97-9b5a-7b24472cf64f"
      },
      "execution_count": null,
      "outputs": [
        {
          "output_type": "stream",
          "name": "stdout",
          "text": [
            "Mounted at /content/drive\n"
          ]
        }
      ]
    },
    {
      "cell_type": "code",
      "execution_count": null,
      "metadata": {
        "id": "Kkew67pChWsc"
      },
      "outputs": [],
      "source": [
        "import pandas as pd\n",
        "import numpy as np\n",
        "import re\n",
        "import csv\n",
        "import os\n",
        "import glob\n",
        "import zipfile\n",
        "import matplotlib.pyplot as plt"
      ]
    },
    {
      "cell_type": "code",
      "source": [
        "prefix = '/content/drive/MyDrive/12 Lead ECG Database/'\n",
        "file_path = prefix + 'Diagnostics.xlsx'"
      ],
      "metadata": {
        "id": "-Rx6d5wC0kJT"
      },
      "execution_count": null,
      "outputs": []
    },
    {
      "cell_type": "code",
      "execution_count": null,
      "metadata": {
        "id": "534KgguthWsi"
      },
      "outputs": [],
      "source": [
        "#read diagnostic features\n",
        "diagnostic_features = pd.read_excel(file_path, engine = 'openpyxl')"
      ]
    },
    {
      "cell_type": "code",
      "execution_count": null,
      "metadata": {
        "collapsed": true,
        "id": "y0aoMRQchWsj"
      },
      "outputs": [],
      "source": [
        "diagnostic_features"
      ]
    },
    {
      "cell_type": "code",
      "execution_count": null,
      "metadata": {
        "id": "WnuZnmRChWsn"
      },
      "outputs": [],
      "source": [
        "#convert pandas to numpy array\n",
        "diagnostic_features_ar = np.asarray(diagnostic_features)"
      ]
    },
    {
      "cell_type": "code",
      "execution_count": null,
      "metadata": {
        "collapsed": true,
        "id": "xOjszpQ2hWso",
        "outputId": "ad27c947-5c82-4277-ebcf-988dd9107d9b",
        "colab": {
          "base_uri": "https://localhost:8080/"
        }
      },
      "outputs": [
        {
          "output_type": "execute_result",
          "data": {
            "text/plain": [
              "array([['MUSE_20180113_171327_27000', 'AFIB', 'RBBB TWC', ..., 208, 265,\n",
              "        386],\n",
              "       ['MUSE_20180112_073319_29000', 'SB', 'TWC', ..., 215, 261, 431],\n",
              "       ['MUSE_20180111_165520_97000', 'SA', 'NONE', ..., 224, 265, 415],\n",
              "       ...,\n",
              "       ['MUSE_20181222_204310_31000', 'SVT', 'NONE', ..., 208, 284, 378],\n",
              "       ['MUSE_20181222_204312_58000', 'SVT', 'NONE', ..., 205, 269, 360],\n",
              "       ['MUSE_20181222_204314_78000', 'SVT', 'NONE', ..., 208, 278, 364]],\n",
              "      dtype=object)"
            ]
          },
          "metadata": {},
          "execution_count": 15
        }
      ],
      "source": [
        "diagnostic_features_ar"
      ]
    },
    {
      "cell_type": "code",
      "execution_count": null,
      "metadata": {
        "id": "7IS1nZOKhWso"
      },
      "outputs": [],
      "source": [
        "# set column 4 to 16 as input features\n",
        "X = diagnostic_features_ar[:, 3:15]"
      ]
    },
    {
      "cell_type": "code",
      "execution_count": null,
      "metadata": {
        "id": "7CcS2QZbhWso",
        "outputId": "c5a80922-90ef-4aab-bd5c-6a70a7f28628",
        "colab": {
          "base_uri": "https://localhost:8080/"
        }
      },
      "outputs": [
        {
          "output_type": "execute_result",
          "data": {
            "text/plain": [
              "array([[85, 'MALE', 117, 234, 114, 356, 496, 81, -27, 19, 208, 265],\n",
              "       [59, 'FEMALE', 52, 52, 92, 432, 401, 76, 42, 8, 215, 261],\n",
              "       [20, 'FEMALE', 67, 67, 82, 382, 403, 88, 20, 11, 224, 265],\n",
              "       [66, 'MALE', 53, 53, 96, 456, 427, 34, 3, 9, 219, 267],\n",
              "       [73, 'FEMALE', 162, 162, 114, 252, 413, 68, -40, 26, 228, 285]],\n",
              "      dtype=object)"
            ]
          },
          "metadata": {},
          "execution_count": 21
        }
      ],
      "source": [
        "X[:5]"
      ]
    },
    {
      "cell_type": "code",
      "execution_count": null,
      "metadata": {
        "id": "SH1I1jexhWsp"
      },
      "outputs": [],
      "source": [
        "# set column 2(Rhythm) as labels\n",
        "labels = diagnostic_features_ar[:, 1]"
      ]
    },
    {
      "cell_type": "code",
      "execution_count": null,
      "metadata": {
        "collapsed": true,
        "id": "nyWa2LMthWsp",
        "outputId": "ed1accf2-e6ca-4dda-b529-a4e2d8c09304",
        "colab": {
          "base_uri": "https://localhost:8080/"
        }
      },
      "outputs": [
        {
          "output_type": "execute_result",
          "data": {
            "text/plain": [
              "array(['AFIB', 'SB', 'SA', 'SB', 'AF', 'SB', 'AFIB', 'SR', 'SB', 'SB',\n",
              "       'SB', 'ST', 'SB', 'SB', 'SB', 'AFIB', 'SB', 'SB', 'SB', 'SB', 'SR',\n",
              "       'SB', 'AFIB', 'ST', 'SB', 'SB', 'SB', 'SA', 'AF', 'AFIB', 'SB',\n",
              "       'ST', 'SB', 'AFIB', 'SA', 'AFIB', 'SB', 'AFIB', 'SB', 'AFIB', 'ST',\n",
              "       'SR', 'AFIB', 'SB', 'ST', 'AFIB', 'SR', 'AFIB', 'SB', 'AFIB', 'SR',\n",
              "       'AF', 'SB', 'SB', 'SB', 'SB', 'ST', 'SR', 'ST', 'AFIB', 'SR', 'SB',\n",
              "       'SR', 'AFIB', 'SB', 'SB', 'AFIB', 'SR', 'AF', 'SR', 'AFIB', 'SR',\n",
              "       'SB', 'AFIB', 'SB', 'SR', 'SB', 'AFIB', 'SB', 'AFIB', 'AF', 'SB',\n",
              "       'SB', 'SB', 'AFIB', 'SB', 'SB', 'SB', 'SB', 'SB', 'SB', 'AFIB',\n",
              "       'SB', 'ST', 'SB', 'ST', 'SR', 'SA', 'SB', 'SB'], dtype=object)"
            ]
          },
          "metadata": {},
          "execution_count": 24
        }
      ],
      "source": [
        "labels[:100]"
      ]
    },
    {
      "cell_type": "code",
      "execution_count": null,
      "metadata": {
        "id": "O_l-XgnphWsq",
        "outputId": "28e647fd-ef31-424d-d988-a6c7e16255b1",
        "colab": {
          "base_uri": "https://localhost:8080/"
        }
      },
      "outputs": [
        {
          "output_type": "stream",
          "name": "stdout",
          "text": [
            "['AF' 'AFIB' 'AT' 'AVNRT' 'AVRT' 'SA' 'SAAWR' 'SB' 'SR' 'ST' 'SVT']\n",
            "[ 445 1780  121   16    8  399    7 3889 1826 1568  587]\n"
          ]
        }
      ],
      "source": [
        "# get names and count of unique labels(Rhythm)\n",
        "u, c = np.unique(labels, return_counts=True)\n",
        "print(u)\n",
        "print(c)"
      ]
    },
    {
      "cell_type": "code",
      "execution_count": null,
      "metadata": {
        "id": "KSjT5ZFLhWsq",
        "outputId": "cdde67b0-15d1-4b5f-8dd8-724c9f920835"
      },
      "outputs": [
        {
          "data": {
            "text/plain": [
              "0.36530152169829044"
            ]
          },
          "execution_count": 11,
          "metadata": {},
          "output_type": "execute_result"
        }
      ],
      "source": [
        "c[7]/np.sum(c)"
      ]
    },
    {
      "cell_type": "code",
      "execution_count": null,
      "metadata": {
        "id": "AQq78b5lhWsr",
        "outputId": "86f82341-1b58-4d25-fca3-be97d1f6ded6",
        "colab": {
          "base_uri": "https://localhost:8080/",
          "height": 447
        }
      },
      "outputs": [
        {
          "output_type": "stream",
          "name": "stdout",
          "text": [
            "[1780. 3889.  399.  445. 1826. 1568.  587.  121.   16.    7.    8.]\n"
          ]
        },
        {
          "output_type": "display_data",
          "data": {
            "text/plain": [
              "<Figure size 640x480 with 1 Axes>"
            ],
            "image/png": "[encoded data removed]"
          },
          "metadata": {}
        }
      ],
      "source": [
        "#histogram of labels\n",
        "print(plt.hist(labels, 11)[0])"
      ]
    },
    {
      "cell_type": "code",
      "execution_count": null,
      "metadata": {
        "id": "ZgW38T6shWsr"
      },
      "outputs": [],
      "source": [
        "# encode gender to one hot 0 ,1\n",
        "from sklearn.preprocessing import LabelEncoder\n",
        "label_encoder = LabelEncoder()\n",
        "X[:, 1] = label_encoder.fit_transform(X[:, 1])"
      ]
    },
    {
      "cell_type": "code",
      "execution_count": null,
      "metadata": {
        "id": "TLN-yysthWsr"
      },
      "outputs": [],
      "source": [
        "# encode labels in mumeric form\n",
        "y = label_encoder.fit_transform(labels)"
      ]
    },
    {
      "cell_type": "code",
      "execution_count": null,
      "metadata": {
        "collapsed": true,
        "id": "pQqLcI9thWst",
        "outputId": "37554b25-a6e0-4b86-c2c7-5f35aabb97c6",
        "colab": {
          "base_uri": "https://localhost:8080/",
          "height": 499
        }
      },
      "outputs": [
        {
          "output_type": "execute_result",
          "data": {
            "text/plain": [
              "(array([ 183.,  251.,  580.,  675., 1269., 2110., 2360., 1863., 1119.,\n",
              "         236.]),\n",
              " array([ 4. , 13.4, 22.8, 32.2, 41.6, 51. , 60.4, 69.8, 79.2, 88.6, 98. ]),\n",
              " <BarContainer object of 10 artists>)"
            ]
          },
          "metadata": {},
          "execution_count": 30
        },
        {
          "output_type": "display_data",
          "data": {
            "text/plain": [
              "<Figure size 640x480 with 1 Axes>"
            ],
            "image/png": "[encoded data removed]"
          },
          "metadata": {}
        }
      ],
      "source": [
        "# histogram of ages\n",
        "import matplotlib.pyplot as plt\n",
        "plt.hist(X[:,0])"
      ]
    },
    {
      "cell_type": "code",
      "execution_count": null,
      "metadata": {
        "collapsed": true,
        "id": "0YvU1kCNhWsu",
        "outputId": "6dd2266d-61de-4bd4-9758-914a9c993ff5",
        "colab": {
          "base_uri": "https://localhost:8080/",
          "height": 534
        }
      },
      "outputs": [
        {
          "output_type": "execute_result",
          "data": {
            "text/plain": [
              "(array([1780., 3889.,  399.,  445., 1826., 1568.,  587.,  121.,   16.,\n",
              "           7.,    8.]),\n",
              " array([ 0.        ,  0.90909091,  1.81818182,  2.72727273,  3.63636364,\n",
              "         4.54545455,  5.45454545,  6.36363636,  7.27272727,  8.18181818,\n",
              "         9.09090909, 10.        ]),\n",
              " <BarContainer object of 11 artists>)"
            ]
          },
          "metadata": {},
          "execution_count": 31
        },
        {
          "output_type": "display_data",
          "data": {
            "text/plain": [
              "<Figure size 640x480 with 1 Axes>"
            ],
            "image/png": "[encoded data removed]"
          },
          "metadata": {}
        }
      ],
      "source": [
        "import matplotlib.pyplot as plt\n",
        "plt.hist(labels, 11)"
      ]
    },
    {
      "cell_type": "code",
      "execution_count": null,
      "metadata": {
        "id": "0zuQ8IADhWsv"
      },
      "outputs": [],
      "source": [
        "# convert age values to age range(0, 1, 2)\n",
        "for i in range(X[:, 0].shape[0]):\n",
        "    if X[i, 0] <= 55:\n",
        "        X[i, 0] = 0\n",
        "    elif X[i, 0] > 55 and X[i, 0] <=70:\n",
        "        X[i,0] = 1\n",
        "    else:\n",
        "        X[i,0] = 2"
      ]
    },
    {
      "cell_type": "code",
      "execution_count": null,
      "metadata": {
        "id": "1yEuzJG9hWsw",
        "outputId": "5dd60451-fe8b-4153-93cb-9bf7ebe682fa",
        "colab": {
          "base_uri": "https://localhost:8080/",
          "height": 499
        }
      },
      "outputs": [
        {
          "output_type": "execute_result",
          "data": {
            "text/plain": [
              "(array([4057.,    0.,    0.,    0.,    0., 3607.,    0.,    0.,    0.,\n",
              "        2982.]),\n",
              " array([0. , 0.2, 0.4, 0.6, 0.8, 1. , 1.2, 1.4, 1.6, 1.8, 2. ]),\n",
              " <BarContainer object of 10 artists>)"
            ]
          },
          "metadata": {},
          "execution_count": 34
        },
        {
          "output_type": "display_data",
          "data": {
            "text/plain": [
              "<Figure size 640x480 with 1 Axes>"
            ],
            "image/png": "[encoded data removed]"
          },
          "metadata": {}
        }
      ],
      "source": [
        "#histogram of age range\n",
        "import matplotlib.pyplot as plt\n",
        "plt.hist(X[:,0])"
      ]
    },
    {
      "cell_type": "code",
      "execution_count": null,
      "metadata": {
        "id": "5Sj-jgiNhWsx",
        "outputId": "b4fe01ee-4234-4a1b-8737-4f5c973dbf44",
        "colab": {
          "base_uri": "https://localhost:8080/"
        }
      },
      "outputs": [
        {
          "output_type": "execute_result",
          "data": {
            "text/plain": [
              "array(['AFIB', 'SB', 'SA', ..., 'SVT', 'SVT', 'SVT'], dtype=object)"
            ]
          },
          "metadata": {},
          "execution_count": 35
        }
      ],
      "source": [
        "labels"
      ]
    },
    {
      "cell_type": "code",
      "execution_count": null,
      "metadata": {
        "id": "UH0_xAzXhWsy",
        "outputId": "96c0dff8-624c-4b69-c223-d3dab0986119",
        "colab": {
          "base_uri": "https://localhost:8080/"
        }
      },
      "outputs": [
        {
          "output_type": "execute_result",
          "data": {
            "text/plain": [
              "array([ 1,  7,  5, ..., 10, 10, 10])"
            ]
          },
          "metadata": {},
          "execution_count": 44
        }
      ],
      "source": [
        "y"
      ]
    },
    {
      "cell_type": "code",
      "execution_count": null,
      "metadata": {
        "id": "IWMj48EhhWsz",
        "outputId": "e6dc0006-27b2-4bd9-ce72-40f6976397d9",
        "colab": {
          "base_uri": "https://localhost:8080/"
        }
      },
      "outputs": [
        {
          "output_type": "stream",
          "name": "stdout",
          "text": [
            "[ 0  1  2  3  4  5  6  7  8  9 10]\n",
            "[ 445 1780  121   16    8  399    7 3889 1826 1568  587]\n"
          ]
        }
      ],
      "source": [
        "u, c = np.unique(y, return_counts=True)\n",
        "print(u)\n",
        "print(c)"
      ]
    },
    {
      "cell_type": "code",
      "execution_count": null,
      "metadata": {
        "id": "OniYDOyShWs0",
        "outputId": "42e31adc-3c5f-41b3-8ecf-6bfe249e2d90",
        "colab": {
          "base_uri": "https://localhost:8080/"
        }
      },
      "outputs": [
        {
          "output_type": "execute_result",
          "data": {
            "text/plain": [
              "(10646, 12)"
            ]
          },
          "metadata": {},
          "execution_count": 38
        }
      ],
      "source": [
        "X.shape"
      ]
    },
    {
      "cell_type": "code",
      "execution_count": null,
      "metadata": {
        "id": "sjU1WVW8hWs0",
        "outputId": "3a92d641-0487-498b-aa3f-406727d48be2",
        "colab": {
          "base_uri": "https://localhost:8080/"
        }
      },
      "outputs": [
        {
          "output_type": "execute_result",
          "data": {
            "text/plain": [
              "(10646,)"
            ]
          },
          "metadata": {},
          "execution_count": 39
        }
      ],
      "source": [
        "y.shape"
      ]
    },
    {
      "cell_type": "code",
      "execution_count": null,
      "metadata": {
        "id": "aR9KqZVlhWs0"
      },
      "outputs": [],
      "source": [
        "# convert 7 labels to two values(0,1)\n",
        "# SB(Sinus Bradycardia) is 1, others are 0.\n",
        "\n",
        "\n",
        "for i in range(y.shape[0]):\n",
        "    if y[i] != 7:\n",
        "        y[i] = 0\n",
        "    else:\n",
        "        y[i] = 1\n",
        "\n"
      ]
    },
    {
      "cell_type": "code",
      "execution_count": null,
      "metadata": {
        "id": "oTykzxilhWs1"
      },
      "outputs": [],
      "source": [
        "# group labels into 4 classes\n",
        "for i in range(y.shape[0]):\n",
        "    if y[i] in (0,1):\n",
        "        y[i] = 0\n",
        "    elif y[i] in (2,3,4,6,9,10):\n",
        "        y[i] = 1\n",
        "    elif y[i] in (5,8):\n",
        "        y[i] = 2\n",
        "    else:\n",
        "        y[i] = 3"
      ]
    },
    {
      "cell_type": "code",
      "execution_count": null,
      "metadata": {
        "id": "0hDXwbM9hWs1",
        "outputId": "8899d553-d308-4247-eb7c-13e8b272e162",
        "colab": {
          "base_uri": "https://localhost:8080/"
        }
      },
      "outputs": [
        {
          "output_type": "stream",
          "name": "stdout",
          "text": [
            "[0 1]\n",
            "[6757 3889]\n"
          ]
        }
      ],
      "source": [
        "# get unique labels and count after grouping into classes\n",
        "u, c = np.unique(y, return_counts=True)\n",
        "print(u)\n",
        "print(c)"
      ]
    },
    {
      "cell_type": "code",
      "execution_count": null,
      "metadata": {
        "collapsed": true,
        "id": "fXo9azRohWs2",
        "outputId": "08b19a5e-7b36-41c1-eb05-6f325f9a4999",
        "colab": {
          "base_uri": "https://localhost:8080/"
        }
      },
      "outputs": [
        {
          "output_type": "execute_result",
          "data": {
            "text/plain": [
              "array([[2, 1, 117, ..., 19, 208, 265],\n",
              "       [1, 0, 52, ..., 8, 215, 261],\n",
              "       [0, 0, 67, ..., 11, 224, 265],\n",
              "       ...,\n",
              "       [0, 1, 152, ..., 25, 208, 284],\n",
              "       [2, 1, 175, ..., 29, 205, 269],\n",
              "       [2, 1, 117, ..., 19, 208, 278]], dtype=object)"
            ]
          },
          "metadata": {},
          "execution_count": 47
        }
      ],
      "source": [
        "X"
      ]
    },
    {
      "cell_type": "code",
      "source": [],
      "metadata": {
        "id": "9XM_4GfB3LMY"
      },
      "execution_count": null,
      "outputs": []
    },
    {
      "cell_type": "code",
      "source": [
        "def get_data(path):\n",
        "  diagnostic_features = pd.read_excel(path, engine = 'openpyxl')\n",
        "  diagnostic_features_ar = np.asarray(diagnostic_features)\n",
        "  X = diagnostic_features_ar[:, 3:15]\n",
        "  labels = diagnostic_features_ar[:, 1]\n",
        "  return X, labels"
      ],
      "metadata": {
        "id": "hoITCHHQBq_k"
      },
      "execution_count": null,
      "outputs": []
    },
    {
      "cell_type": "code",
      "source": [
        "def encode_data(input):\n",
        "  label_encoder = LabelEncoder()\n",
        "  transormed_input = label_encoder.fit_transform(input)\n",
        "  return transormed_input\n"
      ],
      "metadata": {
        "id": "QzZTxIivEPs0"
      },
      "execution_count": null,
      "outputs": []
    },
    {
      "cell_type": "code",
      "source": [
        "def encode_labels(labels):\n",
        "  label_encoder = LabelEncoder()\n",
        "  labels = encode_data(labels)\n",
        "\n",
        "  for i in range(labels.shape[0]):\n",
        "    if labels[i] in (0,1):\n",
        "        labels[i] = 0\n",
        "    elif labels[i] in (2,3,4,6,9,10):\n",
        "        labels[i] = 1\n",
        "    elif labels[i] in (5,8):\n",
        "        labels[i] = 2\n",
        "    else:\n",
        "        labels[i] = 3\n",
        "\n",
        "  return labels\n",
        "\n",
        "\n"
      ],
      "metadata": {
        "id": "G5S9UdGvH_V3"
      },
      "execution_count": null,
      "outputs": []
    },
    {
      "cell_type": "code",
      "source": [
        "def encode_age(age):\n",
        "  for i in range(age.shape[0]):\n",
        "    if age[i] <= 55:\n",
        "        age[i] = 0\n",
        "    elif age[i] > 55 and age[i] <=70:\n",
        "        age[i] = 1\n",
        "    else:\n",
        "       age[i] = 2\n",
        "\n",
        "  return age\n"
      ],
      "metadata": {
        "id": "DPN9OZJEFWA-"
      },
      "execution_count": null,
      "outputs": []
    },
    {
      "cell_type": "code",
      "source": [
        "X[:, 0]"
      ],
      "metadata": {
        "colab": {
          "base_uri": "https://localhost:8080/"
        },
        "id": "Cfq-P9UHG8pv",
        "outputId": "3ef6d233-dd06-466c-89d5-9f843cd4c41b"
      },
      "execution_count": null,
      "outputs": [
        {
          "output_type": "execute_result",
          "data": {
            "text/plain": [
              "array([2, 1, 0, ..., 0, 2, 2], dtype=object)"
            ]
          },
          "metadata": {},
          "execution_count": 25
        }
      ]
    },
    {
      "cell_type": "code",
      "source": [
        "labels"
      ],
      "metadata": {
        "colab": {
          "base_uri": "https://localhost:8080/"
        },
        "id": "0-gUHujaJu6L",
        "outputId": "764c9375-fb74-4b2b-b46f-23c62c37d22d"
      },
      "execution_count": null,
      "outputs": [
        {
          "output_type": "execute_result",
          "data": {
            "text/plain": [
              "array([ 0,  7,  5, ..., 10, 10, 10])"
            ]
          },
          "metadata": {},
          "execution_count": 26
        }
      ]
    },
    {
      "cell_type": "code",
      "source": [
        "X[:,0] = encode_age(X[:,0])"
      ],
      "metadata": {
        "id": "riFUfjONHOF6"
      },
      "execution_count": null,
      "outputs": []
    },
    {
      "cell_type": "code",
      "source": [
        "# evaluate multinomial logistic regression model\n",
        "from numpy import mean\n",
        "from numpy import std\n",
        "from sklearn import metrics\n",
        "from sklearn import preprocessing\n",
        "from sklearn.datasets import make_classification\n",
        "from sklearn.model_selection import cross_val_score\n",
        "from sklearn.model_selection import RepeatedStratifiedKFold\n",
        "from sklearn.linear_model import LogisticRegression\n",
        "from sklearn.preprocessing import MinMaxScaler, StandardScaler, LabelEncoder\n",
        "from sklearn.model_selection import KFold, cross_val_score, train_test_split, cross_validate, GridSearchCV\n",
        "from sklearn.metrics import make_scorer, accuracy_score, precision_score, recall_score, f1_score, confusion_matrix\n",
        "from sklearn.metrics import roc_curve, roc_auc_score, precision_recall_curve, f1_score, auc\n",
        "# define dataset\n",
        "\n",
        "#get_data\n",
        "prefix = '/content/drive/MyDrive/12 Lead ECG Database/'\n",
        "file_path = prefix + 'Diagnostics.xlsx'\n",
        "X, labels = get_data(file_path)\n",
        "\n",
        "#encode_labels()\n",
        "label_encoder = LabelEncoder()\n",
        "X[:, 1] = encode_data(X[:, 1])\n",
        "X[:,0] = encode_age(X[:,0])\n",
        "labels = encode_labels(labels)\n",
        "y = labels\n",
        "\n",
        "\n",
        "norm1 = MinMaxScaler()\n",
        "norm2 = StandardScaler()\n",
        "\n",
        "X[:,2:] = norm2.fit_transform(X[:,2:])\n",
        "\n",
        "#X[:,2:] = preprocessing.normalize(X[:,2:], norm='l2')\n",
        "\n",
        "#for i in range(2, X.shape[1]):\n",
        "  #X[:,i] = preprocessing.normalize(X[:,i], norm='l2')\n",
        "   #X[:,i] = norm2.fit_transform(X[:, i].reshape(-1,1)).squeeze()\n",
        "   #X[:,i] = norm1.fit_transform(X[:, i].reshape(-1,1)).squeeze()\n",
        "\n",
        "# define the model evaluation procedure\n",
        "\n",
        "# define the multinomial logistic regression model\n",
        "model = LogisticRegression(multi_class='multinomial', solver='saga', max_iter = 1000)\n",
        "#model = LogisticRegression()\n",
        "\n",
        "cv = RepeatedStratifiedKFold(n_splits=10, n_repeats=3, random_state=1)\n",
        "# evaluate the model and collect the scores\n",
        "#n_scores = cross_val_score(model, X, y, scoring='accuracy', cv=cv, n_jobs=-1)\n",
        "cv_scores = cross_validate(model, X, y, scoring=['accuracy', 'precision_weighted', 'recall_weighted', 'f1_weighted','roc_auc_ovr_weighted'], cv=cv, n_jobs=-1)\n",
        "# report the model performance\n",
        "print('Mean accuracy: %.3f (%.3f)' % (mean(cv_scores['test_accuracy']), std(cv_scores['test_accuracy'])))\n",
        "print('Mean weighted precision: %.3f (%.3f)' % (mean(cv_scores['test_precision_weighted']), std(cv_scores['test_precision_weighted'])))\n",
        "print('Mean weighted recall: %.3f (%.3f)' % (mean(cv_scores['test_recall_weighted']), std(cv_scores['test_recall_weighted'])))\n",
        "print('Mean weighted f1: %.3f (%.3f)' % (mean(cv_scores['test_f1_weighted']), std(cv_scores['test_f1_weighted'])))\n",
        "print('Mean weighted roc_auc_ovr: %.3f (%.3f)' % (mean(cv_scores['test_roc_auc_ovr_weighted']), std(cv_scores['test_roc_auc_ovr_weighted'])))\n",
        "\n",
        "trainX, testX, trainy, testy = train_test_split(X, y, test_size=0.3, random_state=0)\n",
        "clf = model.fit(trainX, trainy)\n",
        "\n",
        "predict = model.predict(testX)\n",
        "\n",
        "conf_mat = confusion_matrix(testy, predict)\n",
        "\n",
        "print(conf_mat)\n",
        "\n",
        "print(metrics.classification_report(testy, predict, digits=3))\n",
        "\n",
        "#ROC AUC curve\n",
        "\n",
        "# Generate class membership probabilities\n",
        "y_preb_probs = clf.predict_proba(testX)\n",
        "\n",
        "print('ROC AUC score %.3f'% (roc_auc_score(testy, y_preb_probs, average=\"weighted\", multi_class=\"ovr\")))"
      ],
      "metadata": {
        "colab": {
          "base_uri": "https://localhost:8080/"
        },
        "id": "9_I9TZtrD4la",
        "outputId": "f6b9f05f-9347-4628-c595-c87625df9780"
      },
      "execution_count": null,
      "outputs": [
        {
          "output_type": "stream",
          "name": "stdout",
          "text": [
            "Mean accuracy: 0.823 (0.009)\n",
            "Mean weighted precision: 0.817 (0.009)\n",
            "Mean weighted recall: 0.823 (0.009)\n",
            "Mean weighted f1: 0.819 (0.009)\n",
            "Mean weighted roc_auc_ovr: 0.958 (0.004)\n",
            "[[ 391  149  107   31]\n",
            " [ 146  531    6    2]\n",
            " [  73   30  511   39]\n",
            " [   6    1    3 1168]]\n",
            "              precision    recall  f1-score   support\n",
            "\n",
            "           0      0.635     0.577     0.604       678\n",
            "           1      0.747     0.775     0.761       685\n",
            "           2      0.815     0.783     0.798       653\n",
            "           3      0.942     0.992     0.966      1178\n",
            "\n",
            "    accuracy                          0.814      3194\n",
            "   macro avg      0.785     0.781     0.782      3194\n",
            "weighted avg      0.809     0.814     0.811      3194\n",
            "\n",
            "ROC AUC score 0.954\n"
          ]
        }
      ]
    },
    {
      "cell_type": "code",
      "source": [
        "mean(cv_scores['test_precision_weighted'])"
      ],
      "metadata": {
        "colab": {
          "base_uri": "https://localhost:8080/"
        },
        "id": "y-7z6DfHihzR",
        "outputId": "69dc0ee9-3807-4589-a09f-0b7781e6cab9"
      },
      "execution_count": null,
      "outputs": [
        {
          "output_type": "execute_result",
          "data": {
            "text/plain": [
              "0.8172623591782955"
            ]
          },
          "metadata": {},
          "execution_count": 16
        }
      ]
    },
    {
      "cell_type": "code",
      "source": [
        "#to find the names of the possible scoring options that could be passed to the cross_validate and cross_val_scores functions\n",
        "import sklearn\n",
        "sklearn.metrics.get_scorer_names()"
      ],
      "metadata": {
        "colab": {
          "base_uri": "https://localhost:8080/"
        },
        "id": "U4Cef1xqgQEz",
        "outputId": "fe2af3d1-37c3-4408-b972-e09e034158cd"
      },
      "execution_count": null,
      "outputs": [
        {
          "output_type": "execute_result",
          "data": {
            "text/plain": [
              "['accuracy',\n",
              " 'adjusted_mutual_info_score',\n",
              " 'adjusted_rand_score',\n",
              " 'average_precision',\n",
              " 'balanced_accuracy',\n",
              " 'completeness_score',\n",
              " 'explained_variance',\n",
              " 'f1',\n",
              " 'f1_macro',\n",
              " 'f1_micro',\n",
              " 'f1_samples',\n",
              " 'f1_weighted',\n",
              " 'fowlkes_mallows_score',\n",
              " 'homogeneity_score',\n",
              " 'jaccard',\n",
              " 'jaccard_macro',\n",
              " 'jaccard_micro',\n",
              " 'jaccard_samples',\n",
              " 'jaccard_weighted',\n",
              " 'matthews_corrcoef',\n",
              " 'max_error',\n",
              " 'mutual_info_score',\n",
              " 'neg_brier_score',\n",
              " 'neg_log_loss',\n",
              " 'neg_mean_absolute_error',\n",
              " 'neg_mean_absolute_percentage_error',\n",
              " 'neg_mean_gamma_deviance',\n",
              " 'neg_mean_poisson_deviance',\n",
              " 'neg_mean_squared_error',\n",
              " 'neg_mean_squared_log_error',\n",
              " 'neg_median_absolute_error',\n",
              " 'neg_negative_likelihood_ratio',\n",
              " 'neg_root_mean_squared_error',\n",
              " 'normalized_mutual_info_score',\n",
              " 'positive_likelihood_ratio',\n",
              " 'precision',\n",
              " 'precision_macro',\n",
              " 'precision_micro',\n",
              " 'precision_samples',\n",
              " 'precision_weighted',\n",
              " 'r2',\n",
              " 'rand_score',\n",
              " 'recall',\n",
              " 'recall_macro',\n",
              " 'recall_micro',\n",
              " 'recall_samples',\n",
              " 'recall_weighted',\n",
              " 'roc_auc',\n",
              " 'roc_auc_ovo',\n",
              " 'roc_auc_ovo_weighted',\n",
              " 'roc_auc_ovr',\n",
              " 'roc_auc_ovr_weighted',\n",
              " 'top_k_accuracy',\n",
              " 'v_measure_score']"
            ]
          },
          "metadata": {},
          "execution_count": 10
        }
      ]
    },
    {
      "cell_type": "code",
      "source": [
        "# evaluate random forest classifier model\n",
        "from numpy import mean\n",
        "from numpy import std\n",
        "from sklearn import metrics\n",
        "from sklearn import preprocessing\n",
        "from sklearn.datasets import make_classification\n",
        "from sklearn.model_selection import cross_val_score\n",
        "from sklearn.model_selection import RepeatedStratifiedKFold\n",
        "from sklearn.linear_model import LogisticRegression\n",
        "from sklearn.preprocessing import MinMaxScaler, StandardScaler, LabelEncoder\n",
        "from sklearn.model_selection import KFold, cross_val_score, train_test_split, cross_validate, GridSearchCV\n",
        "from sklearn.metrics import make_scorer, accuracy_score, precision_score, recall_score, f1_score, confusion_matrix\n",
        "from sklearn.metrics import roc_curve, roc_auc_score, precision_recall_curve, f1_score, auc\n",
        "from sklearn.ensemble import RandomForestClassifier\n",
        "\n",
        "#get_data\n",
        "prefix = '/content/drive/MyDrive/12 Lead ECG Database/'\n",
        "file_path = prefix + 'Diagnostics.xlsx'\n",
        "X, labels = get_data(file_path)\n",
        "\n",
        "#encode_labels()\n",
        "label_encoder = LabelEncoder()\n",
        "X[:, 1] = encode_data(X[:, 1])\n",
        "X[:,0] = encode_age(X[:,0])\n",
        "labels = encode_labels(labels)\n",
        "y = labels\n",
        "\n",
        "norm1 = MinMaxScaler()\n",
        "norm2 = StandardScaler()\n",
        "\n",
        "#for i in range(2, X.shape[1]):\n",
        "    #X[:,i] = norm2.fit_transform(X[:, i].reshape(-1,1)).squeeze()\n",
        "   # X[:,i] = norm1.fit_transform(X[:, i].reshape(-1,1)).squeeze()\n",
        "\n",
        "\n",
        "# define the multinomial logistic regression model\n",
        "model = RandomForestClassifier(max_depth=100, random_state=0)\n",
        "\n",
        "# define the model evaluation procedure\n",
        "cv = RepeatedStratifiedKFold(n_splits=10, n_repeats=5, random_state=1)\n",
        "# evaluate the model and collect the scores\n",
        "#n_scores = cross_val_score(model, X, y, scoring='precision', cv=cv, n_jobs=-1)\n",
        "cv_scores = cross_validate(model, X, y, scoring=['accuracy', 'precision_weighted', 'recall_weighted', 'f1_weighted','roc_auc_ovr_weighted'], cv=cv, n_jobs=-1)\n",
        "# report the model performance\n",
        "print('Mean accuracy: %.3f (%.3f)' % (mean(cv_scores['test_accuracy']), std(cv_scores['test_accuracy'])))\n",
        "print('Mean weighted precision: %.3f (%.3f)' % (mean(cv_scores['test_precision_weighted']), std(cv_scores['test_precision_weighted'])))\n",
        "print('Mean weighted recall: %.3f (%.3f)' % (mean(cv_scores['test_recall_weighted']), std(cv_scores['test_recall_weighted'])))\n",
        "print('Mean weighted f1: %.3f (%.3f)' % (mean(cv_scores['test_f1_weighted']), std(cv_scores['test_f1_weighted'])))\n",
        "print('Mean weighted roc_auc_ovr: %.3f (%.3f)' % (mean(cv_scores['test_roc_auc_ovr_weighted']), std(cv_scores['test_roc_auc_ovr_weighted'])))\n",
        "\n",
        "trainX, testX, trainy, testy = train_test_split(X, y, test_size=0.3, random_state=0)\n",
        "clf = model.fit(trainX, trainy)\n",
        "\n",
        "predict = model.predict(testX)\n",
        "\n",
        "conf_mat = confusion_matrix(testy, predict)\n",
        "\n",
        "print(conf_mat)\n",
        "\n",
        "print(metrics.classification_report(testy, predict, digits=3))\n",
        "\n",
        "#ROC AUC curve\n",
        "\n",
        "# Generate class membership probabilities\n",
        "y_preb_probs = clf.predict_proba(testX)\n",
        "\n",
        "print('ROC AUC score %.3f'% (roc_auc_score(testy, y_preb_probs, average=\"weighted\", multi_class=\"ovr\")))"
      ],
      "metadata": {
        "colab": {
          "base_uri": "https://localhost:8080/"
        },
        "id": "_lBLle5ilDCr",
        "outputId": "a2cc7d56-cc3f-4e97-d4c3-b00749214251"
      },
      "execution_count": null,
      "outputs": [
        {
          "output_type": "stream",
          "name": "stdout",
          "text": [
            "Mean accuracy: 0.914 (0.008)\n",
            "Mean weighted precision: 0.913 (0.009)\n",
            "Mean weighted recall: 0.914 (0.008)\n",
            "Mean weighted f1: 0.913 (0.008)\n",
            "Mean weighted roc_auc_ovr: 0.985 (0.003)\n",
            "[[ 517   79   66   16]\n",
            " [  71  602   10    2]\n",
            " [  32    1  614    6]\n",
            " [   8    0    4 1166]]\n",
            "              precision    recall  f1-score   support\n",
            "\n",
            "           0      0.823     0.763     0.792       678\n",
            "           1      0.883     0.879     0.881       685\n",
            "           2      0.885     0.940     0.912       653\n",
            "           3      0.980     0.990     0.985      1178\n",
            "\n",
            "    accuracy                          0.908      3194\n",
            "   macro avg      0.893     0.893     0.892      3194\n",
            "weighted avg      0.906     0.908     0.907      3194\n",
            "\n",
            "ROC AUC score 0.983\n"
          ]
        }
      ]
    },
    {
      "cell_type": "code",
      "source": [
        "cv_scores"
      ],
      "metadata": {
        "id": "u9Djrl0Y7wt_"
      },
      "execution_count": null,
      "outputs": []
    },
    {
      "cell_type": "code",
      "source": [
        "# evaluate svm classifier model\n",
        "from numpy import mean\n",
        "from numpy import std\n",
        "from sklearn.datasets import make_classification\n",
        "from sklearn.model_selection import cross_val_score\n",
        "from sklearn.model_selection import RepeatedStratifiedKFold\n",
        "from sklearn.linear_model import LogisticRegression\n",
        "from sklearn import svm\n",
        "from sklearn.ensemble import RandomForestClassifier\n",
        "\n",
        "#rbf = svm.SVC(kernel='rbf', gamma=0.5, C=0.1)\n",
        "#poly = svm.SVC(kernel='poly', degree=3, C=1)\n",
        "\n",
        "#get_data\n",
        "prefix = '/content/drive/MyDrive/12 Lead ECG Database/'\n",
        "file_path = prefix + 'Diagnostics.xlsx'\n",
        "X, labels = get_data(file_path)\n",
        "\n",
        "#encode_labels()\n",
        "label_encoder = LabelEncoder()\n",
        "X[:, 1] = encode_data(X[:, 1])\n",
        "X[:,0] = encode_age(X[:,0])\n",
        "labels = encode_labels(labels)\n",
        "y = labels\n",
        "\n",
        "norm1 = MinMaxScaler()\n",
        "norm2 = StandardScaler()\n",
        "\n",
        "#for i in range(2, X.shape[1]):\n",
        "   # X[:,i] = norm2.fit_transform(X[:, i].reshape(-1,1)).squeeze()\n",
        "   # X[:,i] = norm1.fit_transform(X[:, i].reshape(-1,1)).squeeze()\n",
        "\n",
        "# define the multinomial logistic regression model\n",
        "model = svm.SVC(probability = True)\n",
        "\n",
        "# define the model evaluation procedure\n",
        "cv = RepeatedStratifiedKFold(n_splits=10, n_repeats=5, random_state=1)\n",
        "# evaluate the model and collect the scores\n",
        "#n_scores = cross_val_score(model, X, y, scoring='accuracy', cv=cv, n_jobs=-1)\n",
        "cv_scores = cross_validate(model, X, y, scoring=['accuracy', 'precision_weighted', 'recall_weighted', 'f1_weighted','roc_auc_ovr_weighted'], cv=cv, n_jobs=-1)\n",
        "# report the model performance\n",
        "print('Mean accuracy: %.3f (%.3f)' % (mean(cv_scores['test_accuracy']), std(cv_scores['test_accuracy'])))\n",
        "print('Mean weighted precision: %.3f (%.3f)' % (mean(cv_scores['test_precision_weighted']), std(cv_scores['test_precision_weighted'])))\n",
        "print('Mean weighted recall: %.3f (%.3f)' % (mean(cv_scores['test_recall_weighted']), std(cv_scores['test_recall_weighted'])))\n",
        "print('Mean weighted f1: %.3f (%.3f)' % (mean(cv_scores['test_f1_weighted']), std(cv_scores['test_f1_weighted'])))\n",
        "print('Mean weighted roc_auc_ovr: %.3f (%.3f)' % (mean(cv_scores['test_roc_auc_ovr_weighted']), std(cv_scores['test_roc_auc_ovr_weighted'])))\n",
        "\n",
        "#n_scores = cross_val_score(poly, X, y, scoring='accuracy', cv=cv, n_jobs=-1)\n",
        "# report the model performance\n",
        "#print('Mean Accuracy rbf: %.3f (%.3f)' % (mean(n_scores), std(n_scores)))\n",
        "\n",
        "trainX, testX, trainy, testy = train_test_split(X, y, test_size=0.3, random_state=0)\n",
        "clf = model.fit(trainX, trainy)\n",
        "\n",
        "predict = model.predict(testX)\n",
        "\n",
        "conf_mat = confusion_matrix(testy, predict)\n",
        "\n",
        "print(conf_mat)\n",
        "\n",
        "print(metrics.classification_report(testy, predict, digits=3))\n",
        "\n",
        "#ROC AUC curve\n",
        "\n",
        "# Generate class membership probabilities\n",
        "y_preb_probs = clf.predict_proba(testX)\n",
        "\n",
        "print('ROC AUC score %.3f'% (roc_auc_score(testy, y_preb_probs, average=\"weighted\", multi_class=\"ovr\")))"
      ],
      "metadata": {
        "colab": {
          "base_uri": "https://localhost:8080/"
        },
        "id": "kaOFiknVlxIT",
        "outputId": "17ddc0cf-b880-4d30-d3da-211470daae89"
      },
      "execution_count": null,
      "outputs": [
        {
          "output_type": "stream",
          "name": "stdout",
          "text": [
            "Mean accuracy: 0.830 (0.009)\n",
            "Mean weighted precision: 0.832 (0.010)\n",
            "Mean weighted recall: 0.830 (0.009)\n",
            "Mean weighted f1: 0.816 (0.011)\n",
            "Mean weighted roc_auc_ovr: 0.954 (0.004)\n",
            "[[ 309  203  129   37]\n",
            " [  42  631    9    3]\n",
            " [  20   44  518   71]\n",
            " [   1    1    2 1174]]\n",
            "              precision    recall  f1-score   support\n",
            "\n",
            "           0      0.831     0.456     0.589       678\n",
            "           1      0.718     0.921     0.807       685\n",
            "           2      0.787     0.793     0.790       653\n",
            "           3      0.914     0.997     0.953      1178\n",
            "\n",
            "    accuracy                          0.824      3194\n",
            "   macro avg      0.812     0.792     0.785      3194\n",
            "weighted avg      0.828     0.824     0.811      3194\n",
            "\n",
            "ROC AUC score 0.951\n"
          ]
        }
      ]
    },
    {
      "cell_type": "code",
      "source": [
        "# XGBoost\n",
        "from numpy import mean\n",
        "from numpy import std\n",
        "from sklearn import svm\n",
        "from sklearn import metrics\n",
        "from sklearn import preprocessing\n",
        "\n",
        "from xgboost import XGBClassifier\n",
        "from sklearn.model_selection import train_test_split\n",
        "from sklearn.metrics import accuracy_score\n",
        "\n",
        "from sklearn.datasets import make_classification\n",
        "from sklearn.model_selection import cross_val_score\n",
        "from sklearn.model_selection import RepeatedStratifiedKFold\n",
        "from sklearn.linear_model import LogisticRegression\n",
        "\n",
        "from sklearn.ensemble import RandomForestClassifier\n",
        "from sklearn.preprocessing import MinMaxScaler, StandardScaler, LabelEncoder\n",
        "from sklearn.model_selection import KFold, cross_val_score, train_test_split, cross_validate, GridSearchCV\n",
        "from sklearn.metrics import make_scorer, accuracy_score, precision_score, recall_score, f1_score, confusion_matrix\n",
        "from sklearn.metrics import roc_curve, roc_auc_score, precision_recall_curve, f1_score, auc\n",
        "\n",
        "#get_data\n",
        "prefix = '/content/drive/MyDrive/12 Lead ECG Database/'\n",
        "file_path = prefix + 'Diagnostics.xlsx'\n",
        "X, labels = get_data(file_path)\n",
        "\n",
        "#encode_labels()\n",
        "label_encoder = LabelEncoder()\n",
        "X[:, 1] = encode_data(X[:, 1])\n",
        "X[:,0] = encode_age(X[:,0])\n",
        "labels = encode_labels(labels)\n",
        "y = labels\n",
        "\n",
        "norm1 = MinMaxScaler()\n",
        "norm2 = StandardScaler()\n",
        "\n",
        "X_train, X_test, y_train, y_test = train_test_split(X, y, test_size=0.3, random_state=0)\n",
        "\n",
        "\n",
        "# fit model no training data\n",
        "model = XGBClassifier()\n",
        "\n",
        "# define the model evaluation procedure\n",
        "cv = RepeatedStratifiedKFold(n_splits=10, n_repeats=5, random_state=1)\n",
        "# evaluate the model and collect the scores\n",
        "#n_scores = cross_val_score(model, X, y, scoring='accuracy', cv=cv, n_jobs=-1)\n",
        "cv_scores = cross_validate(model, X, y, scoring=['accuracy', 'precision_weighted', 'recall_weighted', 'f1_weighted','roc_auc_ovr_weighted'], cv=cv, n_jobs=-1)\n",
        "# report the model performance\n",
        "print('Mean accuracy: %.3f (%.3f)' % (mean(cv_scores['test_accuracy']), std(cv_scores['test_accuracy'])))\n",
        "print('Mean weighted precision: %.3f (%.3f)' % (mean(cv_scores['test_precision_weighted']), std(cv_scores['test_precision_weighted'])))\n",
        "print('Mean weighted recall: %.3f (%.3f)' % (mean(cv_scores['test_recall_weighted']), std(cv_scores['test_recall_weighted'])))\n",
        "print('Mean weighted f1: %.3f (%.3f)' % (mean(cv_scores['test_f1_weighted']), std(cv_scores['test_f1_weighted'])))\n",
        "print('Mean weighted roc_auc_ovr: %.3f (%.3f)' % (mean(cv_scores['test_roc_auc_ovr_weighted']), std(cv_scores['test_roc_auc_ovr_weighted'])))\n",
        "\n",
        "\n",
        "clf = model.fit(X_train, y_train)\n",
        "\n",
        "\n",
        "# make predictions for test data\n",
        "y_pred = model.predict(X_test)\n",
        "predictions = [round(value) for value in y_pred]\n",
        "\n",
        "# evaluate predictions\n",
        "#accuracy = accuracy_score(y_test, predictions)\n",
        "#print(\"Accuracy: %.2f%%\" % (accuracy * 100.0))\n",
        "\n",
        "conf_mat = confusion_matrix(y_test, predictions)\n",
        "\n",
        "print(conf_mat)\n",
        "\n",
        "print(metrics.classification_report(y_test, predictions, digits=3))\n",
        "\n",
        "#ROC AUC curve\n",
        "\n",
        "# Generate class membership probabilities\n",
        "y_preb_probs = clf.predict_proba(X_test)\n",
        "\n",
        "print('ROC AUC score %.3f'% (roc_auc_score(y_test, y_preb_probs, average=\"weighted\", multi_class=\"ovr\")))"
      ],
      "metadata": {
        "colab": {
          "base_uri": "https://localhost:8080/",
          "height": 558
        },
        "id": "PAzO5K2Pl8VT",
        "outputId": "5eee1851-ddd2-4f61-96f0-3c6894058009"
      },
      "execution_count": null,
      "outputs": [
        {
          "output_type": "stream",
          "name": "stdout",
          "text": [
            "Mean accuracy: 0.923 (0.007)\n",
            "Mean weighted precision: 0.922 (0.008)\n",
            "Mean weighted recall: 0.923 (0.007)\n",
            "Mean weighted f1: 0.922 (0.007)\n",
            "Mean weighted roc_auc_ovr: 0.987 (0.002)\n",
            "[[ 530   82   52   14]\n",
            " [  73  598   12    2]\n",
            " [  19    2  626    6]\n",
            " [   7    1    5 1165]]\n",
            "              precision    recall  f1-score   support\n",
            "\n",
            "           0      0.843     0.782     0.811       678\n",
            "           1      0.876     0.873     0.874       685\n",
            "           2      0.901     0.959     0.929       653\n",
            "           3      0.981     0.989     0.985      1178\n",
            "\n",
            "    accuracy                          0.914      3194\n",
            "   macro avg      0.900     0.901     0.900      3194\n",
            "weighted avg      0.913     0.914     0.913      3194\n",
            "\n"
          ]
        },
        {
          "output_type": "error",
          "ename": "NameError",
          "evalue": "ignored",
          "traceback": [
            "\u001b[0;31m---------------------------------------------------------------------------\u001b[0m",
            "\u001b[0;31mNameError\u001b[0m                                 Traceback (most recent call last)",
            "\u001b[0;32m<ipython-input-10-1f3232c90e31>\u001b[0m in \u001b[0;36m<cell line: 79>\u001b[0;34m()\u001b[0m\n\u001b[1;32m     77\u001b[0m \u001b[0my_preb_probs\u001b[0m \u001b[0;34m=\u001b[0m \u001b[0mclf\u001b[0m\u001b[0;34m.\u001b[0m\u001b[0mpredict_proba\u001b[0m\u001b[0;34m(\u001b[0m\u001b[0mX_test\u001b[0m\u001b[0;34m)\u001b[0m\u001b[0;34m\u001b[0m\u001b[0;34m\u001b[0m\u001b[0m\n\u001b[1;32m     78\u001b[0m \u001b[0;34m\u001b[0m\u001b[0m\n\u001b[0;32m---> 79\u001b[0;31m \u001b[0mprint\u001b[0m\u001b[0;34m(\u001b[0m\u001b[0;34m'ROC AUC score %.3f'\u001b[0m\u001b[0;34m%\u001b[0m \u001b[0;34m(\u001b[0m\u001b[0mroc_auc_score\u001b[0m\u001b[0;34m(\u001b[0m\u001b[0mtesty\u001b[0m\u001b[0;34m,\u001b[0m \u001b[0my_preb_probs\u001b[0m\u001b[0;34m,\u001b[0m \u001b[0maverage\u001b[0m\u001b[0;34m=\u001b[0m\u001b[0;34m\"weighted\"\u001b[0m\u001b[0;34m,\u001b[0m \u001b[0mmulti_class\u001b[0m\u001b[0;34m=\u001b[0m\u001b[0;34m\"ovr\"\u001b[0m\u001b[0;34m)\u001b[0m\u001b[0;34m)\u001b[0m\u001b[0;34m)\u001b[0m\u001b[0;34m\u001b[0m\u001b[0;34m\u001b[0m\u001b[0m\n\u001b[0m",
            "\u001b[0;31mNameError\u001b[0m: name 'testy' is not defined"
          ]
        }
      ]
    },
    {
      "cell_type": "code",
      "source": [
        "# evaluate neural network\n",
        "\n",
        "# best performance till now normalization - StandardScaler, solver - 'adam',\n",
        "#alpha=1e-5, hidden_layer_sizes=(20, 10), random_state=0, learning_rate ='constant',\n",
        "#learning_rate_init = 0.001, max_iter = 1000\n",
        "#Mean accuracy: 0.926 (0.006)\n",
        "#[[ 553   78   32   15]\n",
        "# [  66  606   11    2]\n",
        "# [  20    5  619    9]\n",
        "# [   9    0    9 1160]]\n",
        "#              precision    recall  f1-score   support\n",
        "\n",
        "#           0      0.853     0.816     0.834       678\n",
        "#           1      0.880     0.885     0.882       685\n",
        "#           2      0.923     0.948     0.935       653\n",
        "#           3      0.978     0.985     0.981      1178\n",
        "\n",
        "#    accuracy                          0.920      3194\n",
        "#   macro avg      0.908     0.908     0.908      3194\n",
        "#weighted avg      0.919     0.920     0.919      3194\n",
        "\n",
        "#Similar perfomance with hidden layer_seizes = (30,20,10)\n",
        "\n",
        "#Mean accuracy: 0.928 (0.007)\n",
        "#[[ 552   75   38   13]\n",
        "# [  64  609   10    2]\n",
        "# [  22    7  611   13]\n",
        "# [  11    1    2 1164]]\n",
        "#              precision    recall  f1-score   support\n",
        "\n",
        "#           0      0.851     0.814     0.832       678\n",
        "#           1      0.880     0.889     0.885       685\n",
        "#           2      0.924     0.936     0.930       653\n",
        "#           3      0.977     0.988     0.982      1178\n",
        "\n",
        "#    accuracy                          0.919      3194\n",
        "#   macro avg      0.908     0.907     0.907      3194\n",
        "#weighted avg      0.918     0.919     0.919      3194\n",
        "\n",
        "\n",
        "#Seems like there is no dropout option in sklearn.neural_network.MLPClassifier\n",
        "\n",
        "import pandas as pd\n",
        "import numpy as np\n",
        "import re\n",
        "import csv\n",
        "import os\n",
        "import glob\n",
        "import zipfile\n",
        "import matplotlib.pyplot as plt\n",
        "from numpy import mean\n",
        "from sklearn.neural_network import MLPClassifier\n",
        "from numpy import std\n",
        "from sklearn import metrics\n",
        "from sklearn import preprocessing\n",
        "from sklearn.datasets import make_classification\n",
        "from sklearn.model_selection import cross_val_score\n",
        "from sklearn.model_selection import RepeatedStratifiedKFold\n",
        "from sklearn.linear_model import LogisticRegression\n",
        "from sklearn.preprocessing import MinMaxScaler, StandardScaler, LabelEncoder\n",
        "from sklearn.model_selection import KFold, cross_val_score, train_test_split, cross_validate, GridSearchCV\n",
        "from sklearn.metrics import make_scorer, accuracy_score, precision_score, recall_score, f1_score, confusion_matrix\n",
        "from sklearn.metrics import roc_curve, roc_auc_score, precision_recall_curve, f1_score, auc\n",
        "\n",
        "#neural network implementation\n",
        "prefix = '/content/drive/MyDrive/12 Lead ECG Database/'\n",
        "file_path = prefix + 'Diagnostics.xlsx'\n",
        "X, labels = get_data(file_path)\n",
        "\n",
        "#encode_labels()\n",
        "label_encoder = LabelEncoder()\n",
        "X[:, 1] = encode_data(X[:, 1])\n",
        "X[:,0] = encode_age(X[:,0])\n",
        "labels = encode_labels(labels)\n",
        "y = labels\n",
        "\n",
        "norm1 = MinMaxScaler()\n",
        "norm2 = StandardScaler()\n",
        "\n",
        "X[:,2:] = norm2.fit_transform(X[:,2:])\n",
        "\n",
        "#X[:,2:] = preprocessing.normalize(X[:,2:], norm='l2')\n",
        "\n",
        "#for i in range(2, X.shape[1]):\n",
        "  #X[:,i] = preprocessing.normalize(X[:,i], norm='l2')\n",
        "   #X[:,i] = norm2.fit_transform(X[:, i].reshape(-1,1)).squeeze()\n",
        "   #X[:,i] = norm1.fit_transform(X[:, i].reshape(-1,1)).squeeze()\n",
        "\n",
        "\n",
        "model = MLPClassifier(solver='adam', alpha=1e-5, hidden_layer_sizes=(20, 10), random_state=0, learning_rate ='constant', learning_rate_init = 0.001, max_iter = 1000)\n",
        "# define the model evaluation procedure\n",
        "cv = RepeatedStratifiedKFold(n_splits=10, n_repeats=3, random_state=1)\n",
        "# evaluate the model and collect the scores\n",
        "# how to use different scoring such as F1, precision, recall with cross validation\n",
        "#n_scores = cross_val_score(model, X, y, scoring='accuracy', cv=cv, n_jobs=-1)\n",
        "cv_scores = cross_validate(model, X, y, scoring=['accuracy', 'precision_weighted', 'recall_weighted', 'f1_weighted','roc_auc_ovr_weighted'], cv=cv, n_jobs=-1)\n",
        "# report the model performance\n",
        "print('Mean accuracy: %.3f (%.3f)' % (mean(cv_scores['test_accuracy']), std(cv_scores['test_accuracy'])))\n",
        "print('Mean weighted precision: %.3f (%.3f)' % (mean(cv_scores['test_precision_weighted']), std(cv_scores['test_precision_weighted'])))\n",
        "print('Mean weighted recall: %.3f (%.3f)' % (mean(cv_scores['test_recall_weighted']), std(cv_scores['test_recall_weighted'])))\n",
        "print('Mean weighted f1: %.3f (%.3f)' % (mean(cv_scores['test_f1_weighted']), std(cv_scores['test_f1_weighted'])))\n",
        "print('Mean weighted roc_auc_ovr: %.3f (%.3f)' % (mean(cv_scores['test_roc_auc_ovr_weighted']), std(cv_scores['test_roc_auc_ovr_weighted'])))\n",
        "\n",
        "X_train, X_test, y_train, y_test = train_test_split(X, y, test_size=0.3, random_state=0)\n",
        "\n",
        "\n",
        "clf = model.fit(X_train, y_train)\n",
        "\n",
        "predict = model.predict(X_test)\n",
        "\n",
        "conf_mat = confusion_matrix(y_test, predict)\n",
        "\n",
        "print(conf_mat)\n",
        "\n",
        "print(metrics.classification_report(y_test, predict, digits=3))\n",
        "\n",
        "#ROC AUC curve\n",
        "\n",
        "# Generate class membership probabilities\n",
        "y_preb_probs = clf.predict_proba(testX)\n",
        "\n",
        "print('ROC AUC score %.3f'% (roc_auc_score(y_test, y_preb_probs, average=\"weighted\", multi_class=\"ovr\")))\n",
        "\n"
      ],
      "metadata": {
        "colab": {
          "base_uri": "https://localhost:8080/",
          "height": 593
        },
        "id": "-pR84zvo0SLp",
        "outputId": "16641595-6a3a-4070-cd59-6e6280c9fd70"
      },
      "execution_count": null,
      "outputs": [
        {
          "output_type": "stream",
          "name": "stdout",
          "text": [
            "Mean accuracy: 0.926 (0.006)\n",
            "Mean weighted precision: 0.926 (0.007)\n",
            "Mean weighted recall: 0.926 (0.006)\n",
            "Mean weighted f1: 0.926 (0.007)\n",
            "Mean weighted roc_auc_ovr: 0.987 (0.003)\n",
            "[[ 553   78   32   15]\n",
            " [  66  606   11    2]\n",
            " [  20    5  619    9]\n",
            " [   9    0    9 1160]]\n",
            "              precision    recall  f1-score   support\n",
            "\n",
            "           0      0.853     0.816     0.834       678\n",
            "           1      0.880     0.885     0.882       685\n",
            "           2      0.923     0.948     0.935       653\n",
            "           3      0.978     0.985     0.981      1178\n",
            "\n",
            "    accuracy                          0.920      3194\n",
            "   macro avg      0.908     0.908     0.908      3194\n",
            "weighted avg      0.919     0.920     0.919      3194\n",
            "\n"
          ]
        },
        {
          "output_type": "error",
          "ename": "NameError",
          "evalue": "ignored",
          "traceback": [
            "\u001b[0;31m---------------------------------------------------------------------------\u001b[0m",
            "\u001b[0;31mNameError\u001b[0m                                 Traceback (most recent call last)",
            "\u001b[0;32m<ipython-input-8-0f6b79f46e11>\u001b[0m in \u001b[0;36m<cell line: 120>\u001b[0;34m()\u001b[0m\n\u001b[1;32m    118\u001b[0m \u001b[0;34m\u001b[0m\u001b[0m\n\u001b[1;32m    119\u001b[0m \u001b[0;31m# Generate class membership probabilities\u001b[0m\u001b[0;34m\u001b[0m\u001b[0;34m\u001b[0m\u001b[0m\n\u001b[0;32m--> 120\u001b[0;31m \u001b[0my_preb_probs\u001b[0m \u001b[0;34m=\u001b[0m \u001b[0mclf\u001b[0m\u001b[0;34m.\u001b[0m\u001b[0mpredict_proba\u001b[0m\u001b[0;34m(\u001b[0m\u001b[0mtestX\u001b[0m\u001b[0;34m)\u001b[0m\u001b[0;34m\u001b[0m\u001b[0;34m\u001b[0m\u001b[0m\n\u001b[0m\u001b[1;32m    121\u001b[0m \u001b[0;34m\u001b[0m\u001b[0m\n\u001b[1;32m    122\u001b[0m \u001b[0mprint\u001b[0m\u001b[0;34m(\u001b[0m\u001b[0;34m'ROC AUC score %.3f'\u001b[0m\u001b[0;34m%\u001b[0m \u001b[0;34m(\u001b[0m\u001b[0mroc_auc_score\u001b[0m\u001b[0;34m(\u001b[0m\u001b[0my_test\u001b[0m\u001b[0;34m,\u001b[0m \u001b[0my_preb_probs\u001b[0m\u001b[0;34m,\u001b[0m \u001b[0maverage\u001b[0m\u001b[0;34m=\u001b[0m\u001b[0;34m\"weighted\"\u001b[0m\u001b[0;34m,\u001b[0m \u001b[0mmulti_class\u001b[0m\u001b[0;34m=\u001b[0m\u001b[0;34m\"ovr\"\u001b[0m\u001b[0;34m)\u001b[0m\u001b[0;34m)\u001b[0m\u001b[0;34m)\u001b[0m\u001b[0;34m\u001b[0m\u001b[0;34m\u001b[0m\u001b[0m\n",
            "\u001b[0;31mNameError\u001b[0m: name 'clf' is not defined"
          ]
        }
      ]
    },
    {
      "cell_type": "code",
      "source": [
        "cv_scores"
      ],
      "metadata": {
        "colab": {
          "base_uri": "https://localhost:8080/",
          "height": 176
        },
        "id": "V1f9i6WeyEvQ",
        "outputId": "ef76bc0a-7dbb-4223-d6cf-fdb6dc5d0fce"
      },
      "execution_count": null,
      "outputs": [
        {
          "output_type": "error",
          "ename": "NameError",
          "evalue": "ignored",
          "traceback": [
            "\u001b[0;31m---------------------------------------------------------------------------\u001b[0m",
            "\u001b[0;31mNameError\u001b[0m                                 Traceback (most recent call last)",
            "\u001b[0;32m<ipython-input-1-fd16348540b2>\u001b[0m in \u001b[0;36m<cell line: 1>\u001b[0;34m()\u001b[0m\n\u001b[0;32m----> 1\u001b[0;31m \u001b[0mcv_scores\u001b[0m\u001b[0;34m\u001b[0m\u001b[0;34m\u001b[0m\u001b[0m\n\u001b[0m",
            "\u001b[0;31mNameError\u001b[0m: name 'cv_scores' is not defined"
          ]
        }
      ]
    },
    {
      "cell_type": "code",
      "source": [
        "from sklearn.neural_network import MLPClassifier\n",
        "MLPClassifier?"
      ],
      "metadata": {
        "id": "yZFl0UAK3fXb"
      },
      "execution_count": null,
      "outputs": []
    },
    {
      "cell_type": "code",
      "source": [
        "labels"
      ],
      "metadata": {
        "colab": {
          "base_uri": "https://localhost:8080/"
        },
        "id": "9ydmIPL_79uI",
        "outputId": "9f7bb3b9-7f82-4ebe-d334-73ecddff37c6"
      },
      "execution_count": null,
      "outputs": [
        {
          "output_type": "execute_result",
          "data": {
            "text/plain": [
              "array([0, 3, 2, ..., 1, 1, 1])"
            ]
          },
          "metadata": {},
          "execution_count": 14
        }
      ]
    },
    {
      "cell_type": "code",
      "source": [
        "pip install scikeras"
      ],
      "metadata": {
        "colab": {
          "base_uri": "https://localhost:8080/"
        },
        "id": "Vqj5haa4YkHt",
        "outputId": "2e47c2f6-e06b-4586-9245-0f64b8a175ab"
      },
      "execution_count": null,
      "outputs": [
        {
          "output_type": "stream",
          "name": "stdout",
          "text": [
            "Collecting scikeras\n",
            "  Downloading scikeras-0.11.0-py3-none-any.whl (27 kB)\n",
            "Requirement already satisfied: packaging>=0.21 in /usr/local/lib/python3.10/dist-packages (from scikeras) (23.1)\n",
            "Requirement already satisfied: scikit-learn>=1.0.0 in /usr/local/lib/python3.10/dist-packages (from scikeras) (1.2.2)\n",
            "Requirement already satisfied: numpy>=1.17.3 in /usr/local/lib/python3.10/dist-packages (from scikit-learn>=1.0.0->scikeras) (1.23.5)\n",
            "Requirement already satisfied: scipy>=1.3.2 in /usr/local/lib/python3.10/dist-packages (from scikit-learn>=1.0.0->scikeras) (1.11.2)\n",
            "Requirement already satisfied: joblib>=1.1.1 in /usr/local/lib/python3.10/dist-packages (from scikit-learn>=1.0.0->scikeras) (1.3.2)\n",
            "Requirement already satisfied: threadpoolctl>=2.0.0 in /usr/local/lib/python3.10/dist-packages (from scikit-learn>=1.0.0->scikeras) (3.2.0)\n",
            "Installing collected packages: scikeras\n",
            "Successfully installed scikeras-0.11.0\n"
          ]
        }
      ]
    },
    {
      "cell_type": "code",
      "source": [
        "#Keras neural network implementation\n",
        "from numpy import mean\n",
        "import tensorflow\n",
        "from sklearn.neural_network import MLPClassifier\n",
        "from numpy import std\n",
        "from sklearn import metrics\n",
        "from sklearn import preprocessing\n",
        "from sklearn.datasets import make_classification\n",
        "from sklearn.model_selection import RepeatedStratifiedKFold\n",
        "from sklearn.linear_model import LogisticRegression\n",
        "from sklearn.preprocessing import MinMaxScaler, StandardScaler, LabelEncoder\n",
        "from sklearn.model_selection import KFold, cross_val_score, train_test_split, cross_validate, GridSearchCV\n",
        "from sklearn.metrics import make_scorer, accuracy_score, precision_score, recall_score, f1_score, confusion_matrix\n",
        "from sklearn.metrics import roc_curve, roc_auc_score, precision_recall_curve, f1_score, auc\n",
        "from scikeras.wrappers import KerasClassifier\n",
        "from tensorflow.keras.models import Sequential\n",
        "from tensorflow.keras.layers import Dense\n",
        "from keras.callbacks import EarlyStopping\n",
        "\n",
        "# load the dataset\n",
        "#neural network implementation\n",
        "prefix = '/content/drive/MyDrive/12 Lead ECG Database/'\n",
        "file_path = prefix + 'Diagnostics.xlsx'\n",
        "X, labels = get_data(file_path)\n",
        "\n",
        "#encode_labels()\n",
        "label_encoder = LabelEncoder()\n",
        "X[:, 1] = encode_data(X[:, 1])\n",
        "X[:,0] = encode_age(X[:,0])\n",
        "labels = encode_labels(labels)\n",
        "y = labels\n",
        "\n",
        "norm1 = MinMaxScaler()\n",
        "norm2 = StandardScaler()\n",
        "\n",
        "X[:,2:] = norm2.fit_transform(X[:,2:])\n",
        "\n",
        "X = np.asarray(X).astype(np.float32)\n",
        "\n",
        "X_train, X_test, y_train, y_test = train_test_split(X, y, test_size=0.3, random_state=0)\n",
        "\n",
        "# define the keras model\n",
        "model = Sequential()\n",
        "model.add(Dense(20, input_shape=(12,), activation='relu'))\n",
        "model.add(Dense(10, activation='relu'))\n",
        "model.add(Dense(4, activation='softmax'))\n",
        "# compile the keras model\n",
        "model.compile(loss='categorical_crossentropy', optimizer='adam', metrics=['accuracy'])\n",
        "# fit the keras model on the dataset\n",
        "clf = KerasClassifier(model, epochs=1000, batch_size=200, verbose=0)\n",
        "y_train = tensorflow.keras.utils.to_categorical(y_train, 4)\n",
        "y_test = tensorflow.keras.utils.to_categorical(y_test, 4)\n",
        "#y = tensorflow.keras.utils.to_categorical(y, 4)\n",
        "\n",
        "cv = RepeatedStratifiedKFold(n_splits=10, n_repeats=3, random_state=1)\n",
        "# evaluate the model and collect the scores\n",
        "# how to use different scoring such as F1, precision, recall with cross validation\n",
        "#n_scores = cross_val_score(model, X, y, scoring='accuracy', cv=cv, n_jobs=-1)\n",
        "#cv_scores = cross_validate(clf, X, y, scoring=['accuracy', 'precision_weighted', 'recall_weighted', 'f1_weighted','roc_auc_ovr_weighted'], cv=cv, n_jobs=-1)\n",
        "\n",
        "cvscores = []\n",
        "for train_idx, test_idx in cv.split(X, y):\n",
        "    model.fit(X[train_idx], tensorflow.keras.utils.to_categorical(y[train_idx],4), epochs=1000, batch_size=200, verbose=0)\n",
        "    scores = model.evaluate(X[test_idx], tensorflow.keras.utils.to_categorical(y[test_idx],4), verbose=0)\n",
        "    cvscores.append(scores)\n",
        "    #X_cv, y_cv = X_train[train_idx], pd.get_dummies(y_train.argmax(axis=1)[train_idx]).values\n",
        "    #clf.fit(X_cv, y_cv)\n",
        "    #scores.append(clf.score(X_cv, y_cv))\n",
        "# report the model performance\n",
        "#print('Mean accuracy: %.3f (%.3f)' % (mean(cv_scores['test_accuracy']), std(cv_scores['test_accuracy'])))\n",
        "#print('Mean weighted precision: %.3f (%.3f)' % (mean(cv_scores['test_precision_weighted']), std(cv_scores['test_precision_weighted'])))\n",
        "#print('Mean weighted recall: %.3f (%.3f)' % (mean(cv_scores['test_recall_weighted']), std(cv_scores['test_recall_weighted'])))\n",
        "#print('Mean weighted f1: %.3f (%.3f)' % (mean(cv_scores['test_f1_weighted']), std(cv_scores['test_f1_weighted'])))\n",
        "#print('Mean weighted roc_auc_ovr: %.3f (%.3f)' % (mean(cv_scores['test_roc_auc_ovr_weighted']), std(cv_scores['test_roc_auc_ovr_weighted'])))\n",
        "\n",
        "#early_stop = EarlyStopping(monitor='train_loss', patience=3)\n",
        "#feels like cheating\n",
        "#model.fit(X_train, y_train, validation_data=(X_test, y_test), callbacks=[early_stop], epochs=1000, batch_size=200)\n",
        "model.fit(X_train, y_train, validation_data=(X_test, y_test), epochs=1000, batch_size=200)\n",
        "# evaluate the keras model\n",
        "_, accuracy = model.evaluate(X_test, y_test)\n",
        "print('Accuracy: %.2f' % (accuracy*100))\n",
        "\n",
        "predict = model.predict(X_test)\n",
        "\n",
        "predict = np.argmax(predict, axis=1)\n",
        "y_test = np.argmax(y_test, axis=1)\n",
        "\n",
        "conf_mat = confusion_matrix(y_test, predict)\n",
        "\n",
        "print(conf_mat)\n",
        "\n",
        "print(metrics.classification_report(y_test, predict, digits=3))\n",
        "\n",
        "#ROC AUC curve\n",
        "\n",
        "# Generate class membership probabilities\n",
        "y_preb_probs = clf.predict_proba(testX)\n",
        "\n",
        "print('ROC AUC score %.3f'% (roc_auc_score(y_test, y_preb_probs, average=\"weighted\", multi_class=\"ovr\")))"
      ],
      "metadata": {
        "colab": {
          "base_uri": "https://localhost:8080/",
          "height": 384
        },
        "id": "D1fY0qJsY1a8",
        "outputId": "08ab3a58-6a06-4d42-9e18-2557382e7210"
      },
      "execution_count": null,
      "outputs": [
        {
          "output_type": "error",
          "ename": "ModuleNotFoundError",
          "evalue": "ignored",
          "traceback": [
            "\u001b[0;31m---------------------------------------------------------------------------\u001b[0m",
            "\u001b[0;31mModuleNotFoundError\u001b[0m                       Traceback (most recent call last)",
            "\u001b[0;32m<ipython-input-1-5246ff21d2e9>\u001b[0m in \u001b[0;36m<cell line: 15>\u001b[0;34m()\u001b[0m\n\u001b[1;32m     13\u001b[0m \u001b[0;32mfrom\u001b[0m \u001b[0msklearn\u001b[0m\u001b[0;34m.\u001b[0m\u001b[0mmetrics\u001b[0m \u001b[0;32mimport\u001b[0m \u001b[0mmake_scorer\u001b[0m\u001b[0;34m,\u001b[0m \u001b[0maccuracy_score\u001b[0m\u001b[0;34m,\u001b[0m \u001b[0mprecision_score\u001b[0m\u001b[0;34m,\u001b[0m \u001b[0mrecall_score\u001b[0m\u001b[0;34m,\u001b[0m \u001b[0mf1_score\u001b[0m\u001b[0;34m,\u001b[0m \u001b[0mconfusion_matrix\u001b[0m\u001b[0;34m\u001b[0m\u001b[0;34m\u001b[0m\u001b[0m\n\u001b[1;32m     14\u001b[0m \u001b[0;32mfrom\u001b[0m \u001b[0msklearn\u001b[0m\u001b[0;34m.\u001b[0m\u001b[0mmetrics\u001b[0m \u001b[0;32mimport\u001b[0m \u001b[0mroc_curve\u001b[0m\u001b[0;34m,\u001b[0m \u001b[0mroc_auc_score\u001b[0m\u001b[0;34m,\u001b[0m \u001b[0mprecision_recall_curve\u001b[0m\u001b[0;34m,\u001b[0m \u001b[0mf1_score\u001b[0m\u001b[0;34m,\u001b[0m \u001b[0mauc\u001b[0m\u001b[0;34m\u001b[0m\u001b[0;34m\u001b[0m\u001b[0m\n\u001b[0;32m---> 15\u001b[0;31m \u001b[0;32mfrom\u001b[0m \u001b[0mscikeras\u001b[0m\u001b[0;34m.\u001b[0m\u001b[0mwrappers\u001b[0m \u001b[0;32mimport\u001b[0m \u001b[0mKerasClassifier\u001b[0m\u001b[0;34m\u001b[0m\u001b[0;34m\u001b[0m\u001b[0m\n\u001b[0m\u001b[1;32m     16\u001b[0m \u001b[0;32mfrom\u001b[0m \u001b[0mtensorflow\u001b[0m\u001b[0;34m.\u001b[0m\u001b[0mkeras\u001b[0m\u001b[0;34m.\u001b[0m\u001b[0mmodels\u001b[0m \u001b[0;32mimport\u001b[0m \u001b[0mSequential\u001b[0m\u001b[0;34m\u001b[0m\u001b[0;34m\u001b[0m\u001b[0m\n\u001b[1;32m     17\u001b[0m \u001b[0;32mfrom\u001b[0m \u001b[0mtensorflow\u001b[0m\u001b[0;34m.\u001b[0m\u001b[0mkeras\u001b[0m\u001b[0;34m.\u001b[0m\u001b[0mlayers\u001b[0m \u001b[0;32mimport\u001b[0m \u001b[0mDense\u001b[0m\u001b[0;34m\u001b[0m\u001b[0;34m\u001b[0m\u001b[0m\n",
            "\u001b[0;31mModuleNotFoundError\u001b[0m: No module named 'scikeras'",
            "",
            "\u001b[0;31m---------------------------------------------------------------------------\u001b[0;32m\nNOTE: If your import is failing due to a missing package, you can\nmanually install dependencies using either !pip or !apt.\n\nTo view examples of installing some common dependencies, click the\n\"Open Examples\" button below.\n\u001b[0;31m---------------------------------------------------------------------------\u001b[0m\n"
          ],
          "errorDetails": {
            "actions": [
              {
                "action": "open_url",
                "actionText": "Open Examples",
                "url": "/notebooks/snippets/importing_libraries.ipynb"
              }
            ]
          }
        }
      ]
    },
    {
      "cell_type": "code",
      "source": [
        "predict[:10,:]"
      ],
      "metadata": {
        "colab": {
          "base_uri": "https://localhost:8080/"
        },
        "id": "dqHX0FcC-gFW",
        "outputId": "a384403a-448f-4fe8-d515-63d1e7ca6482"
      },
      "execution_count": null,
      "outputs": [
        {
          "output_type": "execute_result",
          "data": {
            "text/plain": [
              "array([[4.6572268e-01, 5.3375942e-01, 5.1793287e-04, 1.5078453e-12],\n",
              "       [3.0611334e-03, 3.0433412e-03, 6.0087600e-06, 9.9388945e-01],\n",
              "       [1.6026929e-02, 9.8041695e-01, 3.5561859e-03, 8.4697732e-10],\n",
              "       [1.2812494e-02, 5.2435342e-03, 9.7430634e-01, 7.6376479e-03],\n",
              "       [7.2548552e-03, 6.9820173e-03, 9.8574418e-01, 1.8902187e-05],\n",
              "       [6.2958588e-04, 3.1824704e-04, 2.1104803e-03, 9.9694175e-01],\n",
              "       [9.7135407e-01, 2.8408263e-02, 2.3762716e-04, 2.5308466e-16],\n",
              "       [1.8988131e-02, 9.8004764e-01, 9.6421404e-04, 3.8831294e-10],\n",
              "       [2.5294546e-02, 9.6553284e-01, 9.1725960e-03, 5.6573823e-10],\n",
              "       [7.6856040e-03, 2.4819781e-01, 7.4411660e-01, 4.0113672e-09]],\n",
              "      dtype=float32)"
            ]
          },
          "metadata": {},
          "execution_count": 23
        }
      ]
    },
    {
      "cell_type": "code",
      "source": [
        "np.argmax(predict, axis=1)[:10]"
      ],
      "metadata": {
        "colab": {
          "base_uri": "https://localhost:8080/"
        },
        "id": "v8yTuWB__upS",
        "outputId": "266a6488-f70a-4be2-87e7-0f2386a82127"
      },
      "execution_count": null,
      "outputs": [
        {
          "output_type": "execute_result",
          "data": {
            "text/plain": [
              "array([1, 3, 1, 2, 2, 3, 0, 1, 1, 2])"
            ]
          },
          "metadata": {},
          "execution_count": 24
        }
      ]
    },
    {
      "cell_type": "code",
      "source": [
        "y_test[:10,:]"
      ],
      "metadata": {
        "colab": {
          "base_uri": "https://localhost:8080/"
        },
        "id": "AWn-GKPJ_7pH",
        "outputId": "9f446f60-39dc-4a50-fe2a-1ef804c887b9"
      },
      "execution_count": null,
      "outputs": [
        {
          "output_type": "execute_result",
          "data": {
            "text/plain": [
              "array([[1., 0., 0., 0.],\n",
              "       [0., 0., 0., 1.],\n",
              "       [0., 1., 0., 0.],\n",
              "       [0., 0., 1., 0.],\n",
              "       [0., 0., 1., 0.],\n",
              "       [0., 0., 0., 1.],\n",
              "       [1., 0., 0., 0.],\n",
              "       [0., 1., 0., 0.],\n",
              "       [0., 1., 0., 0.],\n",
              "       [0., 0., 1., 0.]], dtype=float32)"
            ]
          },
          "metadata": {},
          "execution_count": 25
        }
      ]
    },
    {
      "cell_type": "code",
      "source": [
        "np.argmax(y_test, axis=1)[:10]"
      ],
      "metadata": {
        "colab": {
          "base_uri": "https://localhost:8080/"
        },
        "id": "mpDXCJJS_-3n",
        "outputId": "2ee3fef1-9b04-4b89-915d-6b8a3af914fb"
      },
      "execution_count": null,
      "outputs": [
        {
          "output_type": "execute_result",
          "data": {
            "text/plain": [
              "array([0, 3, 1, 2, 2, 3, 0, 1, 1, 2])"
            ]
          },
          "metadata": {},
          "execution_count": 26
        }
      ]
    },
    {
      "cell_type": "code",
      "source": [
        "y_test.shape"
      ],
      "metadata": {
        "colab": {
          "base_uri": "https://localhost:8080/"
        },
        "id": "mAmhxEz4-jeo",
        "outputId": "1920cabc-85ee-48bc-d46f-e07c50dc37ba"
      },
      "execution_count": null,
      "outputs": [
        {
          "output_type": "execute_result",
          "data": {
            "text/plain": [
              "(3194, 4)"
            ]
          },
          "metadata": {},
          "execution_count": 22
        }
      ]
    },
    {
      "cell_type": "code",
      "source": [
        "#Create a plot of the evaluation metrics(Precision, Recall, F1-score, and Accuracy) vs the Model"
      ],
      "metadata": {
        "id": "Jv6B9ekH0Mx9"
      },
      "execution_count": null,
      "outputs": []
    },
    {
      "cell_type": "code",
      "source": [
        "(459+ 596 + 549 + 1164)/3194\n"
      ],
      "metadata": {
        "colab": {
          "base_uri": "https://localhost:8080/"
        },
        "id": "4kVbf7BTGOZB",
        "outputId": "9635d906-de3a-4053-812e-ade17ca95346"
      },
      "execution_count": null,
      "outputs": [
        {
          "output_type": "execute_result",
          "data": {
            "text/plain": [
              "0.8666249217282405"
            ]
          },
          "metadata": {},
          "execution_count": 32
        }
      ]
    },
    {
      "cell_type": "code",
      "source": [
        "678 + 685 + 653 + 1178"
      ],
      "metadata": {
        "colab": {
          "base_uri": "https://localhost:8080/"
        },
        "id": "hgju5DfiGjHv",
        "outputId": "b38a518b-d8d0-45b4-cdfd-92fcb16411fe"
      },
      "execution_count": null,
      "outputs": [
        {
          "output_type": "execute_result",
          "data": {
            "text/plain": [
              "3194"
            ]
          },
          "metadata": {},
          "execution_count": 31
        }
      ]
    },
    {
      "cell_type": "code",
      "source": [
        "MLPClassifier?"
      ],
      "metadata": {
        "id": "F7gaCLCaBwut"
      },
      "execution_count": null,
      "outputs": []
    },
    {
      "cell_type": "code",
      "source": [
        "X_train.shape"
      ],
      "metadata": {
        "colab": {
          "base_uri": "https://localhost:8080/"
        },
        "id": "IOyLD8M7ApPi",
        "outputId": "dbd84ac2-1297-4ba7-a001-6ec0ae0a7321"
      },
      "execution_count": null,
      "outputs": [
        {
          "output_type": "execute_result",
          "data": {
            "text/plain": [
              "(7452, 12)"
            ]
          },
          "metadata": {},
          "execution_count": 16
        }
      ]
    },
    {
      "cell_type": "code",
      "execution_count": null,
      "metadata": {
        "id": "hgGGHQCOhWs2",
        "outputId": "b3ba8a4f-37da-4110-e918-8333bab9fbfc",
        "colab": {
          "base_uri": "https://localhost:8080/"
        }
      },
      "outputs": [
        {
          "output_type": "stream",
          "name": "stdout",
          "text": [
            "Mean accuracy: 0.807 (0.007)\n",
            "[[ 271  214  162   31]\n",
            " [  95  579    9    2]\n",
            " [  74   18  525   36]\n",
            " [   2    1    5 1170]]\n",
            "              precision    recall  f1-score   support\n",
            "\n",
            "           0      0.613     0.400     0.484       678\n",
            "           1      0.713     0.845     0.774       685\n",
            "           2      0.749     0.804     0.775       653\n",
            "           3      0.944     0.993     0.968      1178\n",
            "\n",
            "    accuracy                          0.797      3194\n",
            "   macro avg      0.755     0.761     0.750      3194\n",
            "weighted avg      0.784     0.797     0.784      3194\n",
            "\n"
          ]
        },
        {
          "output_type": "stream",
          "name": "stderr",
          "text": [
            "/usr/local/lib/python3.10/dist-packages/sklearn/linear_model/_logistic.py:458: ConvergenceWarning: lbfgs failed to converge (status=1):\n",
            "STOP: TOTAL NO. of ITERATIONS REACHED LIMIT.\n",
            "\n",
            "Increase the number of iterations (max_iter) or scale the data as shown in:\n",
            "    https://scikit-learn.org/stable/modules/preprocessing.html\n",
            "Please also refer to the documentation for alternative solver options:\n",
            "    https://scikit-learn.org/stable/modules/linear_model.html#logistic-regression\n",
            "  n_iter_i = _check_optimize_result(\n"
          ]
        }
      ],
      "source": [
        "# evaluate multinomial logistic regression model\n",
        "from numpy import mean\n",
        "from numpy import std\n",
        "from sklearn import metrics\n",
        "from sklearn.datasets import make_classification\n",
        "from sklearn.model_selection import cross_val_score\n",
        "from sklearn.model_selection import RepeatedStratifiedKFold\n",
        "from sklearn.linear_model import LogisticRegression\n",
        "from sklearn.preprocessing import MinMaxScaler, StandardScaler, LabelEncoder\n",
        "from sklearn.model_selection import KFold, cross_val_score, train_test_split, cross_validate, GridSearchCV\n",
        "from sklearn.metrics import make_scorer, accuracy_score, precision_score, recall_score, f1_score, confusion_matrix\n",
        "from sklearn.metrics import roc_curve, roc_auc_score, precision_recall_curve, f1_score, auc\n",
        "# define dataset\n",
        "\n",
        "# define the multinomial logistic regression model\n",
        "model = LogisticRegression(multi_class='multinomial', solver='lbfgs')\n",
        "#model = LogisticRegression()\n",
        "\n",
        "diagnostic_features_ar = np.asarray(diagnostic_features)\n",
        "X = diagnostic_features_ar[:, 3:15]\n",
        "labels = diagnostic_features_ar[:, 1]\n",
        "\n",
        "#encode_labels()\n",
        "label_encoder = LabelEncoder()\n",
        "X[:, 1] = label_encoder.fit_transform(X[:, 1])\n",
        "labels = label_encoder.fit_transform(labels)\n",
        "y = labels\n",
        "\n",
        "\n",
        "#encode_age()\n",
        "# setting age regrouping for best distribution\n",
        "for i in range(X[:, 0].shape[0]):\n",
        "    if X[i, 0] <= 55:\n",
        "        X[i, 0] = 0\n",
        "    elif X[i, 0] > 55 and X[i, 0] <=70:\n",
        "        X[i,0] = 1\n",
        "    else:\n",
        "        X[i,0] = 2\n",
        "\n",
        "# change 11 labels to 4 labels for multiple classification based on grouping system\n",
        "for i in range(y.shape[0]):\n",
        "    if y[i] in (0,1):\n",
        "        y[i] = 0\n",
        "    elif y[i] in (2,3,4,6,9,10):\n",
        "        y[i] = 1\n",
        "    elif y[i] in (5,8):\n",
        "        y[i] = 2\n",
        "    else:\n",
        "        y[i] = 3\n",
        "\n",
        "norm1 = MinMaxScaler()\n",
        "norm2 = StandardScaler()\n",
        "\n",
        "\n",
        "#for i in range(2, X.shape[1]):\n",
        "   # X[:,i] = norm2.fit_transform(X[:, i].reshape(-1,1)).squeeze()\n",
        "   # X[:,i] = norm1.fit_transform(X[:, i].reshape(-1,1)).squeeze()\n",
        "\n",
        "# define the model evaluation procedure\n",
        "cv = RepeatedStratifiedKFold(n_splits=10, n_repeats=3, random_state=1)\n",
        "# evaluate the model and collect the scores\n",
        "n_scores = cross_val_score(model, X, y, scoring='accuracy', cv=cv, n_jobs=-1)\n",
        "# report the model performance\n",
        "print('Mean accuracy: %.3f (%.3f)' % (mean(n_scores), std(n_scores)))\n",
        "\n",
        "trainX, testX, trainy, testy = train_test_split(X, y, test_size=0.3, random_state=0)\n",
        "clf = model.fit(trainX, trainy)\n",
        "\n",
        "predict = model.predict(testX)\n",
        "\n",
        "conf_mat = confusion_matrix(testy, predict)\n",
        "\n",
        "print(conf_mat)\n",
        "\n",
        "print(metrics.classification_report(testy, predict, digits=3))"
      ]
    },
    {
      "cell_type": "code",
      "execution_count": null,
      "metadata": {
        "id": "NbP6HXfThWs3",
        "outputId": "608b2b66-feb6-498e-fb0d-7bf2e6630554",
        "colab": {
          "base_uri": "https://localhost:8080/"
        }
      },
      "outputs": [
        {
          "output_type": "execute_result",
          "data": {
            "text/plain": [
              "array([0.81690141, 0.8084507 , 0.79812207, 0.8028169 , 0.80093897,\n",
              "       0.7971831 , 0.80733083, 0.80075188, 0.80827068, 0.81390977,\n",
              "       0.80751174, 0.81690141, 0.8056338 , 0.7971831 , 0.81502347,\n",
              "       0.79906103, 0.80075188, 0.81203008, 0.80357143, 0.81203008,\n",
              "       0.8084507 , 0.80093897, 0.7971831 , 0.82347418, 0.7971831 ,\n",
              "       0.81596244, 0.81578947, 0.79417293, 0.80921053, 0.80827068])"
            ]
          },
          "metadata": {},
          "execution_count": 49
        }
      ],
      "source": [
        "n_scores"
      ]
    },
    {
      "cell_type": "code",
      "execution_count": null,
      "metadata": {
        "id": "Sg4XDtdxhWs4",
        "outputId": "37a1113e-288f-4f6a-cad7-d8bbb0fa816e",
        "colab": {
          "base_uri": "https://localhost:8080/"
        }
      },
      "outputs": [
        {
          "output_type": "stream",
          "name": "stdout",
          "text": [
            "Mean accuracy: 0.914 (0.005)\n",
            "[[ 487   91   53   14]\n",
            " [  57  638    5    2]\n",
            " [  40    2  645    5]\n",
            " [   5    0    2 1148]]\n",
            "              precision    recall  f1-score   support\n",
            "\n",
            "           0      0.827     0.755     0.789       645\n",
            "           1      0.873     0.909     0.890       702\n",
            "           2      0.915     0.932     0.923       692\n",
            "           3      0.982     0.994     0.988      1155\n",
            "\n",
            "    accuracy                          0.914      3194\n",
            "   macro avg      0.899     0.897     0.898      3194\n",
            "weighted avg      0.912     0.914     0.912      3194\n",
            "\n"
          ]
        }
      ],
      "source": [
        "# evaluate random forest classifier model\n",
        "from numpy import mean\n",
        "from numpy import std\n",
        "from sklearn import metrics\n",
        "from sklearn.datasets import make_classification\n",
        "from sklearn.model_selection import cross_val_score\n",
        "from sklearn.model_selection import RepeatedStratifiedKFold\n",
        "from sklearn.linear_model import LogisticRegression\n",
        "from sklearn import svm\n",
        "from sklearn.ensemble import RandomForestClassifier\n",
        "# define dataset\n",
        "\n",
        "# define the multinomial logistic regression model\n",
        "model = RandomForestClassifier(max_depth=100, random_state=0)\n",
        "\n",
        "diagnostic_features_ar = np.asarray(diagnostic_features)\n",
        "X = diagnostic_features_ar[:, 3:15]\n",
        "labels = diagnostic_features_ar[:, 1]\n",
        "\n",
        "label_encoder = LabelEncoder()\n",
        "X[:, 1] = label_encoder.fit_transform(X[:, 1])\n",
        "labels = label_encoder.fit_transform(labels)\n",
        "\n",
        "norm1 = MinMaxScaler()\n",
        "norm2 = StandardScaler()\n",
        "\n",
        "y = labels\n",
        "\n",
        "for i in range(X[:, 0].shape[0]):\n",
        "    if X[i, 0] <= 55:\n",
        "        X[i, 0] = 0\n",
        "    elif X[i, 0] > 55 and X[i, 0] <=70:\n",
        "        X[i,0] = 1\n",
        "    else:\n",
        "        X[i,0] = 2\n",
        "\n",
        "# change 11 labels to 4 labels for multiple classification based on grouping system\n",
        "for i in range(y.shape[0]):\n",
        "    if y[i] in (0,1):\n",
        "        y[i] = 0\n",
        "    elif y[i] in (2,3,4,6,9,10):\n",
        "        y[i] = 1\n",
        "    elif y[i] in (5,8):\n",
        "        y[i] = 2\n",
        "    else:\n",
        "        y[i] = 3\n",
        "\n",
        "\n",
        "\n",
        "\n",
        "#for i in range(2, X.shape[1]):\n",
        "    #X[:,i] = norm2.fit_transform(X[:, i].reshape(-1,1)).squeeze()\n",
        "   # X[:,i] = norm1.fit_transform(X[:, i].reshape(-1,1)).squeeze()\n",
        "\n",
        "\n",
        "\n",
        "# define the model evaluation procedure\n",
        "cv = RepeatedStratifiedKFold(n_splits=5, n_repeats=3, random_state=2)\n",
        "# evaluate the model and collect the scores\n",
        "n_scores = cross_val_score(model, X, y, scoring='accuracy', cv=cv, n_jobs=-1)\n",
        "# report the model performance\n",
        "print('Mean accuracy: %.3f (%.3f)' % (mean(n_scores), std(n_scores)))\n",
        "\n",
        "trainX, testX, trainy, testy = train_test_split(X, y, test_size=0.3, random_state=1)\n",
        "clf = model.fit(trainX, trainy)\n",
        "\n",
        "predict = model.predict(testX)\n",
        "\n",
        "conf_mat = confusion_matrix(testy, predict)\n",
        "\n",
        "print(conf_mat)\n",
        "\n",
        "print(metrics.classification_report(testy, predict, digits=3))"
      ]
    },
    {
      "cell_type": "code",
      "execution_count": null,
      "metadata": {
        "id": "Nop1Yn9ahWs5",
        "outputId": "a5b1c318-a9c2-4881-a3b7-6bde01e11a9e"
      },
      "outputs": [
        {
          "data": {
            "text/plain": [
              "array([nan, nan, nan, nan, nan, nan, nan, nan, nan, nan, nan, nan, nan,\n",
              "       nan, nan])"
            ]
          },
          "execution_count": 25,
          "metadata": {},
          "output_type": "execute_result"
        }
      ],
      "source": [
        "n_scores"
      ]
    },
    {
      "cell_type": "code",
      "execution_count": null,
      "metadata": {
        "id": "fLw2LHN5hWs5",
        "colab": {
          "base_uri": "https://localhost:8080/"
        },
        "outputId": "57755705-174b-42be-9836-4ffc2e8fbcb4"
      },
      "outputs": [
        {
          "output_type": "execute_result",
          "data": {
            "text/plain": [
              "array([0.91314554, 0.91357445, 0.91357445, 0.91827149, 0.91028652,\n",
              "       0.91737089, 0.91028652, 0.91404415, 0.9192109 , 0.91075622,\n",
              "       0.92065728, 0.91592297, 0.9196806 , 0.9084077 , 0.89995303])"
            ]
          },
          "metadata": {},
          "execution_count": 51
        }
      ],
      "source": [
        "n_scores"
      ]
    },
    {
      "cell_type": "code",
      "execution_count": null,
      "metadata": {
        "id": "RLBMCo7ihWs6",
        "outputId": "fbd9d209-6140-4ec9-d0cb-808fe2728ae3",
        "colab": {
          "base_uri": "https://localhost:8080/"
        }
      },
      "outputs": [
        {
          "output_type": "stream",
          "name": "stdout",
          "text": [
            "Mean Accuracy : 0.829 (0.005)\n",
            "[[ 309  203  129   37]\n",
            " [  42  631    9    3]\n",
            " [  20   44  518   71]\n",
            " [   1    1    2 1174]]\n",
            "              precision    recall  f1-score   support\n",
            "\n",
            "           0      0.831     0.456     0.589       678\n",
            "           1      0.718     0.921     0.807       685\n",
            "           2      0.787     0.793     0.790       653\n",
            "           3      0.914     0.997     0.953      1178\n",
            "\n",
            "    accuracy                          0.824      3194\n",
            "   macro avg      0.812     0.792     0.785      3194\n",
            "weighted avg      0.828     0.824     0.811      3194\n",
            "\n"
          ]
        }
      ],
      "source": [
        "# evaluate svm classifier model\n",
        "from numpy import mean\n",
        "from numpy import std\n",
        "from sklearn.datasets import make_classification\n",
        "from sklearn.model_selection import cross_val_score\n",
        "from sklearn.model_selection import RepeatedStratifiedKFold\n",
        "from sklearn.linear_model import LogisticRegression\n",
        "from sklearn import svm\n",
        "from sklearn.ensemble import RandomForestClassifier\n",
        "# define dataset\n",
        "\n",
        "# define the multinomial logistic regression model\n",
        "model = svm.SVC()\n",
        "\n",
        "#rbf = svm.SVC(kernel='rbf', gamma=0.5, C=0.1)\n",
        "#poly = svm.SVC(kernel='poly', degree=3, C=1)\n",
        "\n",
        "diagnostic_features_ar = np.asarray(diagnostic_features)\n",
        "X = diagnostic_features_ar[:, 3:15]\n",
        "labels = diagnostic_features_ar[:, 1]\n",
        "\n",
        "label_encoder = LabelEncoder()\n",
        "X[:, 1] = label_encoder.fit_transform(X[:, 1])\n",
        "labels = label_encoder.fit_transform(labels)\n",
        "\n",
        "norm1 = MinMaxScaler()\n",
        "norm2 = StandardScaler()\n",
        "\n",
        "\n",
        "y = labels\n",
        "\n",
        "for i in range(X[:, 0].shape[0]):\n",
        "    if X[i, 0] <= 55:\n",
        "        X[i, 0] = 0\n",
        "    elif X[i, 0] > 55 and X[i, 0] <=70:\n",
        "        X[i,0] = 1\n",
        "    else:\n",
        "        X[i,0] = 2\n",
        "\n",
        "# change 11 labels to 4 labels for multiple classification based on grouping system\n",
        "for i in range(y.shape[0]):\n",
        "    if y[i] in (0,1):\n",
        "        y[i] = 0\n",
        "    elif y[i] in (2,3,4,6,9,10):\n",
        "        y[i] = 1\n",
        "    elif y[i] in (5,8):\n",
        "        y[i] = 2\n",
        "    else:\n",
        "        y[i] = 3\n",
        "\n",
        "\n",
        "#for i in range(2, X.shape[1]):\n",
        "   # X[:,i] = norm2.fit_transform(X[:, i].reshape(-1,1)).squeeze()\n",
        "   # X[:,i] = norm1.fit_transform(X[:, i].reshape(-1,1)).squeeze()\n",
        "\n",
        "# define the model evaluation procedure\n",
        "cv = RepeatedStratifiedKFold(n_splits=5, n_repeats=3, random_state=1)\n",
        "# evaluate the model and collect the scores\n",
        "n_scores = cross_val_score(model, X, y, scoring='accuracy', cv=cv, n_jobs=-1)\n",
        "# report the model performance\n",
        "print('Mean Accuracy : %.3f (%.3f)' % (mean(n_scores), std(n_scores)))\n",
        "\n",
        "#n_scores = cross_val_score(poly, X, y, scoring='accuracy', cv=cv, n_jobs=-1)\n",
        "# report the model performance\n",
        "#print('Mean Accuracy rbf: %.3f (%.3f)' % (mean(n_scores), std(n_scores)))\n",
        "\n",
        "trainX, testX, trainy, testy = train_test_split(X, y, test_size=0.3, random_state=0)\n",
        "clf = model.fit(trainX, trainy)\n",
        "\n",
        "predict = model.predict(testX)\n",
        "\n",
        "conf_mat = confusion_matrix(testy, predict)\n",
        "\n",
        "print(conf_mat)\n",
        "\n",
        "print(metrics.classification_report(testy, predict, digits=3))\n",
        "\n"
      ]
    },
    {
      "cell_type": "code",
      "execution_count": null,
      "metadata": {
        "id": "XRpKfp6IhWs7",
        "outputId": "d4574646-6af5-4daf-dda5-0b20d4580f19",
        "colab": {
          "base_uri": "https://localhost:8080/"
        }
      },
      "outputs": [
        {
          "output_type": "stream",
          "name": "stdout",
          "text": [
            "Accuracy: 92.20%\n",
            "[[ 568  101   52   18]\n",
            " [  55  682    8    2]\n",
            " [  16    2  702    9]\n",
            " [   7    0    4 1288]]\n",
            "              precision    recall  f1-score   support\n",
            "\n",
            "           0      0.879     0.769     0.820       739\n",
            "           1      0.869     0.913     0.890       747\n",
            "           2      0.916     0.963     0.939       729\n",
            "           3      0.978     0.992     0.985      1299\n",
            "\n",
            "    accuracy                          0.922      3514\n",
            "   macro avg      0.911     0.909     0.909      3514\n",
            "weighted avg      0.921     0.922     0.921      3514\n",
            "\n"
          ]
        }
      ],
      "source": [
        "# XGBoost\n",
        "from xgboost import XGBClassifier\n",
        "from sklearn.model_selection import train_test_split\n",
        "from sklearn.metrics import accuracy_score\n",
        "from numpy import mean\n",
        "from numpy import std\n",
        "from sklearn.datasets import make_classification\n",
        "from sklearn.model_selection import cross_val_score\n",
        "from sklearn.model_selection import RepeatedStratifiedKFold\n",
        "from sklearn.linear_model import LogisticRegression\n",
        "from sklearn import svm\n",
        "from sklearn.ensemble import RandomForestClassifier\n",
        "\n",
        "diagnostic_features_ar = np.asarray(diagnostic_features)\n",
        "X = diagnostic_features_ar[:, 3:15]\n",
        "labels = diagnostic_features_ar[:, 1]\n",
        "\n",
        "label_encoder = LabelEncoder()\n",
        "X[:, 1] = label_encoder.fit_transform(X[:, 1])\n",
        "labels = label_encoder.fit_transform(labels)\n",
        "\n",
        "norm1 = MinMaxScaler()\n",
        "norm2 = StandardScaler()\n",
        "\n",
        "\n",
        "y = labels\n",
        "\n",
        "for i in range(X[:, 0].shape[0]):\n",
        "    if X[i, 0] <= 55:\n",
        "        X[i, 0] = 0\n",
        "    elif X[i, 0] > 55 and X[i, 0] <=70:\n",
        "        X[i,0] = 1\n",
        "    else:\n",
        "        X[i,0] = 2\n",
        "\n",
        "# change 11 labels to 4 labels for multiple classification based on grouping system\n",
        "for i in range(y.shape[0]):\n",
        "    if y[i] in (0,1):\n",
        "        y[i] = 0\n",
        "    elif y[i] in (2,3,4,6,9,10):\n",
        "        y[i] = 1\n",
        "    elif y[i] in (5,8):\n",
        "        y[i] = 2\n",
        "    else:\n",
        "        y[i] = 3\n",
        "\n",
        "seed = 7\n",
        "test_size = 0.33\n",
        "X_train, X_test, y_train, y_test = train_test_split(X, y, test_size=test_size, random_state=seed)\n",
        "\n",
        "\n",
        "# fit model no training data\n",
        "model = XGBClassifier()\n",
        "model.fit(X_train, y_train)\n",
        "\n",
        "\n",
        "# make predictions for test data\n",
        "y_pred = model.predict(X_test)\n",
        "predictions = [round(value) for value in y_pred]\n",
        "\n",
        "# evaluate predictions\n",
        "accuracy = accuracy_score(y_test, predictions)\n",
        "print(\"Accuracy: %.2f%%\" % (accuracy * 100.0))\n",
        "\n",
        "conf_mat = confusion_matrix(y_test, predictions)\n",
        "\n",
        "print(conf_mat)\n",
        "\n",
        "print(metrics.classification_report(y_test, predictions, digits=3))"
      ]
    },
    {
      "cell_type": "code",
      "execution_count": null,
      "metadata": {
        "id": "Hz-T4NJahWs8",
        "outputId": "287ada53-9aac-4e36-b897-38a55ce93992"
      },
      "outputs": [
        {
          "name": "stdout",
          "output_type": "stream",
          "text": [
            "Accuracy: 0.977 (0.003)\n",
            "Precision: 0.945 (0.007)\n",
            "Recall: 0.995 (0.002)\n",
            "F1_Score: 0.969 (0.004)\n"
          ]
        }
      ],
      "source": [
        "#20 random test split\n",
        "\n",
        "from numpy import mean\n",
        "from numpy import std\n",
        "from sklearn import svm\n",
        "from sklearn.ensemble import RandomForestClassifier\n",
        "from sklearn.linear_model import LogisticRegression\n",
        "from sklearn.preprocessing import MinMaxScaler, StandardScaler, LabelEncoder\n",
        "from sklearn.compose import make_column_transformer\n",
        "from sklearn.model_selection import KFold, cross_val_score, train_test_split, cross_validate, GridSearchCV\n",
        "\n",
        "from sklearn.metrics import make_scorer, accuracy_score, precision_score, recall_score, f1_score, confusion_matrix\n",
        "from sklearn.metrics import roc_curve, roc_auc_score, precision_recall_curve, f1_score, auc\n",
        "\n",
        "#cv = KFold(n_splits=10, random_state=1, shuffle=True)\n",
        "# create model\n",
        "#w = {0:1, 1: 1}\n",
        "model = LogisticRegression(multi_class='multinomial', solver='lbfgs')\n",
        "\n",
        "diagnostic_features_ar = np.asarray(diagnostic_features)\n",
        "X = diagnostic_features_ar[:, 3:15]\n",
        "labels = diagnostic_features_ar[:, 1]\n",
        "\n",
        "label_encoder = LabelEncoder()\n",
        "X[:, 1] = label_encoder.fit_transform(X[:, 1])\n",
        "labels = label_encoder.fit_transform(labels)\n",
        "\n",
        "y = labels\n",
        "\n",
        "\n",
        "for i in range(X[:, 0].shape[0]):\n",
        "    if X[i, 0] <= 55:\n",
        "        X[i, 0] = 0\n",
        "    elif X[i, 0] > 55 and X[i, 0] <=70:\n",
        "        X[i,0] = 1\n",
        "    else:\n",
        "        X[i,0] = 2\n",
        "\n",
        "for i in range(y.shape[0]):\n",
        "    if y[i] != 7:\n",
        "        y[i] = 0\n",
        "    else:\n",
        "        y[i] = 1\n",
        "\n",
        "#X[:,0] = np.sqrt(X[:,0])\n",
        "\n",
        "norm1 = MinMaxScaler()\n",
        "norm2 = StandardScaler()\n",
        "\n",
        "\n",
        "\n",
        "#for i in range(2, X.shape[1]):\n",
        "#    X[:,i] = norm2.fit_transform(X[:, i].reshape(-1,1)).squeeze()\n",
        "#    X[:,i] = norm1.fit_transform(X[:, i].reshape(-1,1)).squeeze()\n",
        "\n",
        "# evaluate model\n",
        "#############\n",
        "\n",
        "\n",
        "#cv = KFold(n_splits=10, random_state=1, shuffle=True)\n",
        "RepeatedStratifiedKFold(n_splits=10, n_repeats=3, random_state=1)\n",
        "\n",
        "scoring = {'accuracy' : make_scorer(accuracy_score),\n",
        "       'precision' : make_scorer(precision_score),\n",
        "      'recall' : make_scorer(recall_score),\n",
        "       'f1_score' : make_scorer(f1_score)}\n",
        "\n",
        "scores = cross_validate(model, X, y, scoring=scoring, cv=cv, n_jobs=-1)\n",
        "\n",
        "#report performance\n",
        "print('Accuracy: %.3f (%.3f)' % (mean(scores['test_accuracy']), std(scores['test_accuracy'])))\n",
        "print('Precision: %.3f (%.3f)' % (mean(scores['test_precision']), std(scores['test_precision'])))\n",
        "print('Recall: %.3f (%.3f)' % (mean(scores['test_recall']), std(scores['test_recall'])))\n",
        "print('F1_Score: %.3f (%.3f)' % (mean(scores['test_f1_score']), std(scores['test_f1_score'])))\n",
        "\n",
        "\n",
        "\n",
        "\n",
        "#penalty = ['l1', 'l2', 'elasticnet']\n",
        "#C = [0.5, 0.6, 0.7, 0.8]\n",
        "#class_weight = [{1:5, 0:1}, {1:6, 0:1}, {1:4, 0:1}, {1:3, 0:1}, {1:1, 0:1}]\n",
        "#solver = ['newton-cg', 'lbfgs', 'liblinear', 'sag', 'saga']\n",
        "#max_iter = [100, 500, 1000]\n",
        "\n",
        "#param_grid = dict(penalty=penalty, C=C, solver=solver, max_iter=max_iter)\n",
        "\n",
        "#lr_cv = GridSearchCV(estimator=model, param_grid=param_grid, scoring= make_scorer(roc_auc_score),\n",
        "#                   verbose=1, n_jobs=-1, cv=10)\n",
        "#lr_cv.fit(X, y)\n",
        "#best_params = lr_cv.best_params_\n",
        "#print(f\"Best parameters: {best_params}\")\n",
        "\n",
        "#model = LogisticRegression(max_iter = 1000)\n",
        "\n",
        "#auc_l =[]\n",
        "#f1_l = []\n",
        "\n",
        "#for i in range(20):\n",
        "#    trainX, testX, trainy, testy = train_test_split(X, y, test_size=0.3, random_state=i)\n",
        "\n",
        "    #ns_probs = [0 for _ in range(testy.shape[0])]\n",
        "\n",
        "#    clf = model.fit(trainX, trainy)\n",
        "\n",
        "#    predict = model.predict(testX)\n",
        "\n",
        "#    conf_mat = confusion_matrix(testy, predict)\n",
        "\n",
        "#    print(conf_mat)\n",
        "\n",
        "\n",
        "##\n",
        "\n",
        "#model2 = RandomForestClassifier(max_depth=2, random_state=0)\n",
        "\n",
        "#clf2 = model2.fit(trainX, trainy)\n",
        "\n",
        "#predict = model2.predict(testX)\n",
        "\n",
        "#conf_mat2 = confusion_matrix(testy, predict)\n",
        "\n",
        "#print(conf_mat2)\n",
        "\n",
        "##\n",
        "#model3 = svm.SVC()\n",
        "\n",
        "#clf3 = model3.fit(trainX, trainy)\n",
        "\n",
        "#predict = model3.predict(testX)\n",
        "\n",
        "#conf_mat3 = confusion_matrix(testy, predict)\n",
        "\n",
        "#print(conf_mat3)\n",
        "\n",
        "# ROC curve\n",
        "\n"
      ]
    },
    {
      "cell_type": "markdown",
      "metadata": {
        "id": "t_zrMx0fhWs9"
      },
      "source": [
        "# Correlation between features"
      ]
    },
    {
      "cell_type": "code",
      "execution_count": null,
      "metadata": {
        "id": "V_n3L-E9hWtI"
      },
      "outputs": [],
      "source": [
        "import scipy"
      ]
    },
    {
      "cell_type": "code",
      "execution_count": null,
      "metadata": {
        "id": "6Qaq0NxXhWtJ"
      },
      "outputs": [],
      "source": [
        "diagnostic_features_ar = np.asarray(diagnostic_features)\n",
        "X = diagnostic_features_ar[:, 3:15]"
      ]
    },
    {
      "cell_type": "code",
      "execution_count": null,
      "metadata": {
        "id": "u9Jds9QMhWtK"
      },
      "outputs": [],
      "source": [
        "label_encoder = LabelEncoder()\n",
        "X[:, 1] = label_encoder.fit_transform(X[:, 1])"
      ]
    },
    {
      "cell_type": "code",
      "execution_count": null,
      "metadata": {
        "id": "bc7ejJObhWtL",
        "outputId": "1f74743a-a6a7-448f-eb3b-8a605fb37bfb"
      },
      "outputs": [
        {
          "data": {
            "text/plain": [
              "(10646, 12)"
            ]
          },
          "execution_count": 60,
          "metadata": {},
          "output_type": "execute_result"
        }
      ],
      "source": [
        "X.shape"
      ]
    },
    {
      "cell_type": "code",
      "execution_count": null,
      "metadata": {
        "id": "ioXdRNAthWtL",
        "outputId": "b00d8414-e06a-44c1-d366-5b40437b1aa6"
      },
      "outputs": [
        {
          "data": {
            "text/plain": [
              "0.0"
            ]
          },
          "execution_count": 62,
          "metadata": {},
          "output_type": "execute_result"
        }
      ],
      "source": [
        "scipy.stats.pearsonr(X[:, 2], X[:, 3])[1]"
      ]
    },
    {
      "cell_type": "code",
      "execution_count": null,
      "metadata": {
        "collapsed": true,
        "id": "MJ_-h1yEhWtL",
        "outputId": "07264ad9-9cd4-4391-a072-981f12273991"
      },
      "outputs": [
        {
          "name": "stdout",
          "output_type": "stream",
          "text": [
            "Pearson correlation of feature2 and feature3 = 0.5333395351012189 p_value = 0.0\n",
            "Pearson correlation of feature2 and feature4 = -0.05484732397315045 p_value = 1.4899653524485962e-08\n",
            "Pearson correlation of feature2 and feature5 = -0.8531689575613922 p_value = 0.0\n",
            "Pearson correlation of feature2 and feature6 = 0.42167227568847754 p_value = 0.0\n",
            "Pearson correlation of feature2 and feature7 = 0.09143699575141209 p_value = 3.2888203225882616e-21\n",
            "Pearson correlation of feature2 and feature8 = 0.10420074602696262 p_value = 4.3036976514177455e-27\n",
            "Pearson correlation of feature2 and feature9 = 0.9970715121893723 p_value = 0.0\n",
            "Pearson correlation of feature2 and feature10 = 0.011265529999519183 p_value = 0.24512514245787637\n",
            "Pearson correlation of feature2 and feature11 = -0.048688169493821626 p_value = 5.007908277639086e-07\n",
            "Pearson correlation of feature3 and feature4 = -0.06014813823770229 p_value = 5.26662727621062e-10\n",
            "Pearson correlation of feature3 and feature5 = -0.4740838095432183 p_value = 0.0\n",
            "Pearson correlation of feature3 and feature6 = 0.2520166456286566 p_value = 6.609744492355888e-154\n",
            "Pearson correlation of feature3 and feature7 = 0.05185540840837648 p_value = 8.632333851975802e-08\n",
            "Pearson correlation of feature3 and feature8 = 0.05037708888668099 p_value = 1.9867582416939653e-07\n",
            "Pearson correlation of feature3 and feature9 = 0.5305874203616766 p_value = 0.0\n",
            "Pearson correlation of feature3 and feature10 = 0.037640266625107235 p_value = 0.00010248893105673303\n",
            "Pearson correlation of feature3 and feature11 = -0.034009467957284406 p_value = 0.00044864365791088607\n",
            "Pearson correlation of feature4 and feature5 = 0.19612127585028405 p_value = 8.68080849895969e-93\n",
            "Pearson correlation of feature4 and feature6 = 0.18876022267100007 p_value = 5.6922823896597246e-86\n",
            "Pearson correlation of feature4 and feature7 = -0.08462027596463333 p_value = 2.215629197464365e-18\n",
            "Pearson correlation of feature4 and feature8 = 0.009284556709218919 p_value = 0.3381214262478674\n",
            "Pearson correlation of feature4 and feature9 = -0.053868194779469594 p_value = 2.6750192255042305e-08\n",
            "Pearson correlation of feature4 and feature10 = -0.42437729743038843 p_value = 0.0\n",
            "Pearson correlation of feature4 and feature11 = 0.7198337900267493 p_value = 0.0\n",
            "Pearson correlation of feature5 and feature6 = 0.025108493466317716 p_value = 0.009575732646289718\n",
            "Pearson correlation of feature5 and feature7 = -0.1232689175597595 p_value = 2.5374174908182245e-37\n",
            "Pearson correlation of feature5 and feature8 = -0.05662708018594385 p_value = 5.012496702530814e-09\n",
            "Pearson correlation of feature5 and feature9 = -0.8505188307507678 p_value = 0.0\n",
            "Pearson correlation of feature5 and feature10 = -0.08254106062175892 p_value = 1.4622165284277468e-17\n",
            "Pearson correlation of feature5 and feature11 = 0.1417024163101201 p_value = 7.120703946976568e-49\n",
            "Pearson correlation of feature6 and feature7 = -0.04815626135590939 p_value = 6.65956186531419e-07\n",
            "Pearson correlation of feature6 and feature8 = 0.07195237934111948 p_value = 1.0634644895930877e-13\n",
            "Pearson correlation of feature6 and feature9 = 0.42048794977147963 p_value = 0.0\n",
            "Pearson correlation of feature6 and feature10 = -0.12595544497168443 p_value = 6.655635421849924e-39\n",
            "Pearson correlation of feature6 and feature11 = 0.10072739284185026 p_value = 2.046158087290587e-25\n",
            "Pearson correlation of feature7 and feature8 = 0.0465934077271691 p_value = 1.5128565706024164e-06\n",
            "Pearson correlation of feature7 and feature9 = 0.0908570682727205 p_value = 5.836294823476219e-21\n",
            "Pearson correlation of feature7 and feature10 = 0.061944746919786256 p_value = 1.5864815448310199e-10\n",
            "Pearson correlation of feature7 and feature11 = -0.04095496751887928 p_value = 2.3683984463270442e-05\n",
            "Pearson correlation of feature8 and feature9 = 0.10375302687308877 p_value = 7.132262495239068e-27\n",
            "Pearson correlation of feature8 and feature10 = -0.07557571419289666 p_value = 5.805030506649489e-15\n",
            "Pearson correlation of feature8 and feature11 = -0.04823258600233929 p_value = 6.393831158346721e-07\n",
            "Pearson correlation of feature9 and feature10 = 0.010224195672905254 p_value = 0.2915027899261594\n",
            "Pearson correlation of feature9 and feature11 = -0.04846310923291791 p_value = 5.651834648618735e-07\n",
            "Pearson correlation of feature10 and feature11 = 0.3230584092778184 p_value = 4.128114049268326e-257\n"
          ]
        }
      ],
      "source": [
        "for i in range(2, 12):\n",
        "    for j in range(i+1, 12):\n",
        "        print(\"Pearson correlation of feature\" + str(i) + \" and feature\" + str(j) + \" = \" + str(scipy.stats.pearsonr(X[:, i], X[:, j])[0]) + \" p_value = \" + str(scipy.stats.pearsonr(X[:, i], X[:, j])[1]))\n"
      ]
    },
    {
      "cell_type": "markdown",
      "metadata": {
        "id": "67nm_6QDhWtM"
      },
      "source": [
        "# Signal Processing Features"
      ]
    },
    {
      "cell_type": "code",
      "execution_count": null,
      "metadata": {
        "id": "ZDeeDC03hWtM"
      },
      "outputs": [],
      "source": []
    },
    {
      "cell_type": "code",
      "execution_count": null,
      "metadata": {
        "id": "fa6AYvnDhWtM"
      },
      "outputs": [],
      "source": [
        "folders = sorted(glob.glob('*.csv'))\n",
        "folders"
      ]
    },
    {
      "cell_type": "code",
      "execution_count": null,
      "metadata": {
        "id": "bbptNKCehWtM"
      },
      "outputs": [],
      "source": [
        "folders[0]"
      ]
    },
    {
      "cell_type": "code",
      "execution_count": null,
      "metadata": {
        "id": "s-QDn7SuhWtN"
      },
      "outputs": [],
      "source": [
        "f = pd.read_csv(folders[0])"
      ]
    },
    {
      "cell_type": "code",
      "execution_count": null,
      "metadata": {
        "id": "kq3i7kuehWtN"
      },
      "outputs": [],
      "source": [
        "f_arr = np.asarray(f)"
      ]
    },
    {
      "cell_type": "code",
      "execution_count": null,
      "metadata": {
        "id": "sR_ldqwzhWtN"
      },
      "outputs": [],
      "source": [
        "f_arr[:,0].shape"
      ]
    },
    {
      "cell_type": "code",
      "execution_count": null,
      "metadata": {
        "id": "IuyqZqxbhWtO"
      },
      "outputs": [],
      "source": [
        "plt.plot(np.arange(5000), f_arr[:,0])"
      ]
    },
    {
      "cell_type": "code",
      "execution_count": null,
      "metadata": {
        "id": "5OGKn0eXhWtP"
      },
      "outputs": [],
      "source": [
        "plt.plot(np.arange(5000), f_arr[:,1])\n",
        "\n"
      ]
    },
    {
      "cell_type": "code",
      "execution_count": null,
      "metadata": {
        "id": "Vf1VtqdYhWtP"
      },
      "outputs": [],
      "source": [
        "plt.plot(np.arange(5000), f_arr[:,2])"
      ]
    },
    {
      "cell_type": "code",
      "execution_count": null,
      "metadata": {
        "id": "n_yTltiZhWtQ"
      },
      "outputs": [],
      "source": [
        "plt.plot(np.arange(5000), f_arr[:,3])"
      ]
    },
    {
      "cell_type": "code",
      "execution_count": null,
      "metadata": {
        "id": "vagBB7f7hWtQ"
      },
      "outputs": [],
      "source": [
        "plt.plot(np.arange(5000), f_arr[:,4])"
      ]
    },
    {
      "cell_type": "code",
      "execution_count": null,
      "metadata": {
        "id": "mRX-5aAqhWtQ"
      },
      "outputs": [],
      "source": [
        "plt.plot(np.arange(5000), f_arr[:,5])"
      ]
    },
    {
      "cell_type": "code",
      "execution_count": null,
      "metadata": {
        "id": "IldNuZDPhWtQ"
      },
      "outputs": [],
      "source": [
        "plt.plot(np.arange(5000), f_arr[:,6])"
      ]
    },
    {
      "cell_type": "code",
      "execution_count": null,
      "metadata": {
        "id": "jDyvANoEhWtR"
      },
      "outputs": [],
      "source": [
        "plt.plot(np.arange(5000), f_arr[:,7])"
      ]
    },
    {
      "cell_type": "code",
      "execution_count": null,
      "metadata": {
        "id": "c5sAdZkshWtR"
      },
      "outputs": [],
      "source": [
        "plt.plot(np.arange(5000), f_arr[:,8])"
      ]
    },
    {
      "cell_type": "code",
      "execution_count": null,
      "metadata": {
        "id": "WAJEC0RbhWtR"
      },
      "outputs": [],
      "source": [
        "plt.plot(np.arange(5000), f_arr[:,9])"
      ]
    },
    {
      "cell_type": "code",
      "execution_count": null,
      "metadata": {
        "id": "da-FgJV-hWtR"
      },
      "outputs": [],
      "source": [
        "plt.plot(np.arange(5000), f_arr[:,10])"
      ]
    },
    {
      "cell_type": "code",
      "execution_count": null,
      "metadata": {
        "id": "dFON8oqkhWtR"
      },
      "outputs": [],
      "source": [
        "plt.plot(np.arange(5000), f_arr[:,11])"
      ]
    },
    {
      "cell_type": "code",
      "execution_count": null,
      "metadata": {
        "id": "GzfgElONhWtS"
      },
      "outputs": [],
      "source": []
    },
    {
      "cell_type": "code",
      "execution_count": null,
      "metadata": {
        "id": "M1UGzkbOhWtS"
      },
      "outputs": [],
      "source": []
    }
  ],
  "metadata": {
    "kernelspec": {
      "display_name": "Python 3",
      "name": "python3"
    },
    "language_info": {
      "codemirror_mode": {
        "name": "ipython",
        "version": 3
      },
      "file_extension": ".py",
      "mimetype": "text/x-python",
      "name": "python",
      "nbconvert_exporter": "python",
      "pygments_lexer": "ipython3",
      "version": "3.7.9"
    },
    "colab": {
      "provenance": [],
      "gpuType": "T4"
    },
    "accelerator": "GPU"
  },
  "nbformat": 4,
  "nbformat_minor": 0
}