{
 "cells": [
  {
   "cell_type": "code",
   "execution_count": 1,
   "metadata": {},
   "outputs": [],
   "source": [
    "import pandas as pd\n",
    "import numpy as np\n",
    "import re \n",
    "import csv\n",
    "import os\n",
    "import glob\n",
    "import zipfile\n",
    "import matplotlib.pyplot as plt"
   ]
  },
  {
   "cell_type": "code",
   "execution_count": null,
   "metadata": {},
   "outputs": [],
   "source": [
    "#change current working directory to data directory\n",
    "cd \"C:\\\\Users\\\\anchi\\\\Downloads\\\\UKY\\\\Research\\\\ECGData\\\\12 Lead ECG Database\\\\ECGData\""
   ]
  },
  {
   "cell_type": "code",
   "execution_count": null,
   "metadata": {},
   "outputs": [],
   "source": [
    "# get all the csv files \n",
    "folders = sorted(glob.glob('*.csv'))\n",
    "folders"
   ]
  },
  {
   "cell_type": "code",
   "execution_count": 2,
   "metadata": {},
   "outputs": [],
   "source": [
    "#read diagnostic features\n",
    "diagnostic_features = pd.read_excel('C:\\\\Users\\\\anchi\\\\Downloads\\\\UKY\\\\Research\\\\ECGData\\\\12 Lead ECG Database\\\\Diagnostics.xlsx', engine = 'openpyxl')"
   ]
  },
  {
   "cell_type": "code",
   "execution_count": 3,
   "metadata": {
    "collapsed": true
   },
   "outputs": [
    {
     "data": {
      "text/html": [
       "<div>\n",
       "<style scoped>\n",
       "    .dataframe tbody tr th:only-of-type {\n",
       "        vertical-align: middle;\n",
       "    }\n",
       "\n",
       "    .dataframe tbody tr th {\n",
       "        vertical-align: top;\n",
       "    }\n",
       "\n",
       "    .dataframe thead th {\n",
       "        text-align: right;\n",
       "    }\n",
       "</style>\n",
       "<table border=\"1\" class=\"dataframe\">\n",
       "  <thead>\n",
       "    <tr style=\"text-align: right;\">\n",
       "      <th></th>\n",
       "      <th>FileName</th>\n",
       "      <th>Rhythm</th>\n",
       "      <th>Beat</th>\n",
       "      <th>PatientAge</th>\n",
       "      <th>Gender</th>\n",
       "      <th>VentricularRate</th>\n",
       "      <th>AtrialRate</th>\n",
       "      <th>QRSDuration</th>\n",
       "      <th>QTInterval</th>\n",
       "      <th>QTCorrected</th>\n",
       "      <th>RAxis</th>\n",
       "      <th>TAxis</th>\n",
       "      <th>QRSCount</th>\n",
       "      <th>QOnset</th>\n",
       "      <th>QOffset</th>\n",
       "      <th>TOffset</th>\n",
       "    </tr>\n",
       "  </thead>\n",
       "  <tbody>\n",
       "    <tr>\n",
       "      <th>0</th>\n",
       "      <td>MUSE_20180113_171327_27000</td>\n",
       "      <td>AFIB</td>\n",
       "      <td>RBBB TWC</td>\n",
       "      <td>85</td>\n",
       "      <td>MALE</td>\n",
       "      <td>117</td>\n",
       "      <td>234</td>\n",
       "      <td>114</td>\n",
       "      <td>356</td>\n",
       "      <td>496</td>\n",
       "      <td>81</td>\n",
       "      <td>-27</td>\n",
       "      <td>19</td>\n",
       "      <td>208</td>\n",
       "      <td>265</td>\n",
       "      <td>386</td>\n",
       "    </tr>\n",
       "    <tr>\n",
       "      <th>1</th>\n",
       "      <td>MUSE_20180112_073319_29000</td>\n",
       "      <td>SB</td>\n",
       "      <td>TWC</td>\n",
       "      <td>59</td>\n",
       "      <td>FEMALE</td>\n",
       "      <td>52</td>\n",
       "      <td>52</td>\n",
       "      <td>92</td>\n",
       "      <td>432</td>\n",
       "      <td>401</td>\n",
       "      <td>76</td>\n",
       "      <td>42</td>\n",
       "      <td>8</td>\n",
       "      <td>215</td>\n",
       "      <td>261</td>\n",
       "      <td>431</td>\n",
       "    </tr>\n",
       "    <tr>\n",
       "      <th>2</th>\n",
       "      <td>MUSE_20180111_165520_97000</td>\n",
       "      <td>SA</td>\n",
       "      <td>NONE</td>\n",
       "      <td>20</td>\n",
       "      <td>FEMALE</td>\n",
       "      <td>67</td>\n",
       "      <td>67</td>\n",
       "      <td>82</td>\n",
       "      <td>382</td>\n",
       "      <td>403</td>\n",
       "      <td>88</td>\n",
       "      <td>20</td>\n",
       "      <td>11</td>\n",
       "      <td>224</td>\n",
       "      <td>265</td>\n",
       "      <td>415</td>\n",
       "    </tr>\n",
       "    <tr>\n",
       "      <th>3</th>\n",
       "      <td>MUSE_20180113_121940_44000</td>\n",
       "      <td>SB</td>\n",
       "      <td>NONE</td>\n",
       "      <td>66</td>\n",
       "      <td>MALE</td>\n",
       "      <td>53</td>\n",
       "      <td>53</td>\n",
       "      <td>96</td>\n",
       "      <td>456</td>\n",
       "      <td>427</td>\n",
       "      <td>34</td>\n",
       "      <td>3</td>\n",
       "      <td>9</td>\n",
       "      <td>219</td>\n",
       "      <td>267</td>\n",
       "      <td>447</td>\n",
       "    </tr>\n",
       "    <tr>\n",
       "      <th>4</th>\n",
       "      <td>MUSE_20180112_122850_57000</td>\n",
       "      <td>AF</td>\n",
       "      <td>STDD STTC</td>\n",
       "      <td>73</td>\n",
       "      <td>FEMALE</td>\n",
       "      <td>162</td>\n",
       "      <td>162</td>\n",
       "      <td>114</td>\n",
       "      <td>252</td>\n",
       "      <td>413</td>\n",
       "      <td>68</td>\n",
       "      <td>-40</td>\n",
       "      <td>26</td>\n",
       "      <td>228</td>\n",
       "      <td>285</td>\n",
       "      <td>354</td>\n",
       "    </tr>\n",
       "    <tr>\n",
       "      <th>...</th>\n",
       "      <td>...</td>\n",
       "      <td>...</td>\n",
       "      <td>...</td>\n",
       "      <td>...</td>\n",
       "      <td>...</td>\n",
       "      <td>...</td>\n",
       "      <td>...</td>\n",
       "      <td>...</td>\n",
       "      <td>...</td>\n",
       "      <td>...</td>\n",
       "      <td>...</td>\n",
       "      <td>...</td>\n",
       "      <td>...</td>\n",
       "      <td>...</td>\n",
       "      <td>...</td>\n",
       "      <td>...</td>\n",
       "    </tr>\n",
       "    <tr>\n",
       "      <th>10641</th>\n",
       "      <td>MUSE_20181222_204306_99000</td>\n",
       "      <td>SVT</td>\n",
       "      <td>NONE</td>\n",
       "      <td>80</td>\n",
       "      <td>FEMALE</td>\n",
       "      <td>196</td>\n",
       "      <td>73</td>\n",
       "      <td>168</td>\n",
       "      <td>284</td>\n",
       "      <td>513</td>\n",
       "      <td>258</td>\n",
       "      <td>244</td>\n",
       "      <td>32</td>\n",
       "      <td>177</td>\n",
       "      <td>261</td>\n",
       "      <td>319</td>\n",
       "    </tr>\n",
       "    <tr>\n",
       "      <th>10642</th>\n",
       "      <td>MUSE_20181222_204309_22000</td>\n",
       "      <td>SVT</td>\n",
       "      <td>NONE</td>\n",
       "      <td>81</td>\n",
       "      <td>FEMALE</td>\n",
       "      <td>162</td>\n",
       "      <td>81</td>\n",
       "      <td>162</td>\n",
       "      <td>294</td>\n",
       "      <td>482</td>\n",
       "      <td>110</td>\n",
       "      <td>-75</td>\n",
       "      <td>27</td>\n",
       "      <td>173</td>\n",
       "      <td>254</td>\n",
       "      <td>320</td>\n",
       "    </tr>\n",
       "    <tr>\n",
       "      <th>10643</th>\n",
       "      <td>MUSE_20181222_204310_31000</td>\n",
       "      <td>SVT</td>\n",
       "      <td>NONE</td>\n",
       "      <td>39</td>\n",
       "      <td>MALE</td>\n",
       "      <td>152</td>\n",
       "      <td>92</td>\n",
       "      <td>152</td>\n",
       "      <td>340</td>\n",
       "      <td>540</td>\n",
       "      <td>250</td>\n",
       "      <td>38</td>\n",
       "      <td>25</td>\n",
       "      <td>208</td>\n",
       "      <td>284</td>\n",
       "      <td>378</td>\n",
       "    </tr>\n",
       "    <tr>\n",
       "      <th>10644</th>\n",
       "      <td>MUSE_20181222_204312_58000</td>\n",
       "      <td>SVT</td>\n",
       "      <td>NONE</td>\n",
       "      <td>76</td>\n",
       "      <td>MALE</td>\n",
       "      <td>175</td>\n",
       "      <td>178</td>\n",
       "      <td>128</td>\n",
       "      <td>310</td>\n",
       "      <td>529</td>\n",
       "      <td>98</td>\n",
       "      <td>-83</td>\n",
       "      <td>29</td>\n",
       "      <td>205</td>\n",
       "      <td>269</td>\n",
       "      <td>360</td>\n",
       "    </tr>\n",
       "    <tr>\n",
       "      <th>10645</th>\n",
       "      <td>MUSE_20181222_204314_78000</td>\n",
       "      <td>SVT</td>\n",
       "      <td>NONE</td>\n",
       "      <td>75</td>\n",
       "      <td>MALE</td>\n",
       "      <td>117</td>\n",
       "      <td>104</td>\n",
       "      <td>140</td>\n",
       "      <td>312</td>\n",
       "      <td>435</td>\n",
       "      <td>263</td>\n",
       "      <td>144</td>\n",
       "      <td>19</td>\n",
       "      <td>208</td>\n",
       "      <td>278</td>\n",
       "      <td>364</td>\n",
       "    </tr>\n",
       "  </tbody>\n",
       "</table>\n",
       "<p>10646 rows × 16 columns</p>\n",
       "</div>"
      ],
      "text/plain": [
       "                         FileName Rhythm       Beat  PatientAge  Gender  \\\n",
       "0      MUSE_20180113_171327_27000   AFIB   RBBB TWC          85    MALE   \n",
       "1      MUSE_20180112_073319_29000     SB        TWC          59  FEMALE   \n",
       "2      MUSE_20180111_165520_97000     SA       NONE          20  FEMALE   \n",
       "3      MUSE_20180113_121940_44000     SB       NONE          66    MALE   \n",
       "4      MUSE_20180112_122850_57000     AF  STDD STTC          73  FEMALE   \n",
       "...                           ...    ...        ...         ...     ...   \n",
       "10641  MUSE_20181222_204306_99000    SVT       NONE          80  FEMALE   \n",
       "10642  MUSE_20181222_204309_22000    SVT       NONE          81  FEMALE   \n",
       "10643  MUSE_20181222_204310_31000    SVT       NONE          39    MALE   \n",
       "10644  MUSE_20181222_204312_58000    SVT       NONE          76    MALE   \n",
       "10645  MUSE_20181222_204314_78000    SVT       NONE          75    MALE   \n",
       "\n",
       "       VentricularRate  AtrialRate  QRSDuration  QTInterval  QTCorrected  \\\n",
       "0                  117         234          114         356          496   \n",
       "1                   52          52           92         432          401   \n",
       "2                   67          67           82         382          403   \n",
       "3                   53          53           96         456          427   \n",
       "4                  162         162          114         252          413   \n",
       "...                ...         ...          ...         ...          ...   \n",
       "10641              196          73          168         284          513   \n",
       "10642              162          81          162         294          482   \n",
       "10643              152          92          152         340          540   \n",
       "10644              175         178          128         310          529   \n",
       "10645              117         104          140         312          435   \n",
       "\n",
       "       RAxis  TAxis  QRSCount  QOnset  QOffset  TOffset  \n",
       "0         81    -27        19     208      265      386  \n",
       "1         76     42         8     215      261      431  \n",
       "2         88     20        11     224      265      415  \n",
       "3         34      3         9     219      267      447  \n",
       "4         68    -40        26     228      285      354  \n",
       "...      ...    ...       ...     ...      ...      ...  \n",
       "10641    258    244        32     177      261      319  \n",
       "10642    110    -75        27     173      254      320  \n",
       "10643    250     38        25     208      284      378  \n",
       "10644     98    -83        29     205      269      360  \n",
       "10645    263    144        19     208      278      364  \n",
       "\n",
       "[10646 rows x 16 columns]"
      ]
     },
     "execution_count": 3,
     "metadata": {},
     "output_type": "execute_result"
    }
   ],
   "source": [
    "diagnostic_features"
   ]
  },
  {
   "cell_type": "code",
   "execution_count": 4,
   "metadata": {},
   "outputs": [],
   "source": [
    "#convert pandas to numpy array\n",
    "diagnostic_features_ar = np.asarray(diagnostic_features)"
   ]
  },
  {
   "cell_type": "code",
   "execution_count": 5,
   "metadata": {
    "collapsed": true
   },
   "outputs": [
    {
     "data": {
      "text/plain": [
       "array([['MUSE_20180113_171327_27000', 'AFIB', 'RBBB TWC', ..., 208, 265,\n",
       "        386],\n",
       "       ['MUSE_20180112_073319_29000', 'SB', 'TWC', ..., 215, 261, 431],\n",
       "       ['MUSE_20180111_165520_97000', 'SA', 'NONE', ..., 224, 265, 415],\n",
       "       ...,\n",
       "       ['MUSE_20181222_204310_31000', 'SVT', 'NONE', ..., 208, 284, 378],\n",
       "       ['MUSE_20181222_204312_58000', 'SVT', 'NONE', ..., 205, 269, 360],\n",
       "       ['MUSE_20181222_204314_78000', 'SVT', 'NONE', ..., 208, 278, 364]],\n",
       "      dtype=object)"
      ]
     },
     "execution_count": 5,
     "metadata": {},
     "output_type": "execute_result"
    }
   ],
   "source": [
    "diagnostic_features_ar"
   ]
  },
  {
   "cell_type": "code",
   "execution_count": 6,
   "metadata": {},
   "outputs": [],
   "source": [
    "# set column 4 to 16 as input features\n",
    "X = diagnostic_features_ar[:, 3:15]"
   ]
  },
  {
   "cell_type": "code",
   "execution_count": 7,
   "metadata": {},
   "outputs": [
    {
     "data": {
      "text/plain": [
       "array([[85, 'MALE', 117, 234, 114, 356, 496, 81, -27, 19, 208, 265],\n",
       "       [59, 'FEMALE', 52, 52, 92, 432, 401, 76, 42, 8, 215, 261],\n",
       "       [20, 'FEMALE', 67, 67, 82, 382, 403, 88, 20, 11, 224, 265],\n",
       "       [66, 'MALE', 53, 53, 96, 456, 427, 34, 3, 9, 219, 267],\n",
       "       [73, 'FEMALE', 162, 162, 114, 252, 413, 68, -40, 26, 228, 285]],\n",
       "      dtype=object)"
      ]
     },
     "execution_count": 7,
     "metadata": {},
     "output_type": "execute_result"
    }
   ],
   "source": [
    "X[:5]"
   ]
  },
  {
   "cell_type": "code",
   "execution_count": 8,
   "metadata": {},
   "outputs": [],
   "source": [
    "# set column 2(Rhythm) as labels\n",
    "labels = diagnostic_features_ar[:, 1]"
   ]
  },
  {
   "cell_type": "code",
   "execution_count": 9,
   "metadata": {
    "collapsed": true
   },
   "outputs": [
    {
     "data": {
      "text/plain": [
       "array(['AFIB', 'SB', 'SA', 'SB', 'AF', 'SB', 'AFIB', 'SR', 'SB', 'SB',\n",
       "       'SB', 'ST', 'SB', 'SB', 'SB', 'AFIB', 'SB', 'SB', 'SB', 'SB', 'SR',\n",
       "       'SB', 'AFIB', 'ST', 'SB', 'SB', 'SB', 'SA', 'AF', 'AFIB', 'SB',\n",
       "       'ST', 'SB', 'AFIB', 'SA', 'AFIB', 'SB', 'AFIB', 'SB', 'AFIB', 'ST',\n",
       "       'SR', 'AFIB', 'SB', 'ST', 'AFIB', 'SR', 'AFIB', 'SB', 'AFIB', 'SR',\n",
       "       'AF', 'SB', 'SB', 'SB', 'SB', 'ST', 'SR', 'ST', 'AFIB', 'SR', 'SB',\n",
       "       'SR', 'AFIB', 'SB', 'SB', 'AFIB', 'SR', 'AF', 'SR', 'AFIB', 'SR',\n",
       "       'SB', 'AFIB', 'SB', 'SR', 'SB', 'AFIB', 'SB', 'AFIB', 'AF', 'SB',\n",
       "       'SB', 'SB', 'AFIB', 'SB', 'SB', 'SB', 'SB', 'SB', 'SB', 'AFIB',\n",
       "       'SB', 'ST', 'SB', 'ST', 'SR', 'SA', 'SB', 'SB'], dtype=object)"
      ]
     },
     "execution_count": 9,
     "metadata": {},
     "output_type": "execute_result"
    }
   ],
   "source": [
    "labels[:100]"
   ]
  },
  {
   "cell_type": "code",
   "execution_count": 11,
   "metadata": {},
   "outputs": [
    {
     "name": "stdout",
     "output_type": "stream",
     "text": [
      "['AF' 'AFIB' 'AT' 'AVNRT' 'AVRT' 'SA' 'SAAWR' 'SB' 'SR' 'ST' 'SVT']\n",
      "[ 445 1780  121   16    8  399    7 3889 1826 1568  587]\n"
     ]
    }
   ],
   "source": [
    "# get names and count of unique labels(Rhythm)\n",
    "u, c = np.unique(labels, return_counts=True)\n",
    "print(u)\n",
    "print(c)"
   ]
  },
  {
   "cell_type": "code",
   "execution_count": 11,
   "metadata": {},
   "outputs": [
    {
     "data": {
      "text/plain": [
       "0.36530152169829044"
      ]
     },
     "execution_count": 11,
     "metadata": {},
     "output_type": "execute_result"
    }
   ],
   "source": [
    "c[7]/np.sum(c)"
   ]
  },
  {
   "cell_type": "code",
   "execution_count": 16,
   "metadata": {},
   "outputs": [
    {
     "name": "stdout",
     "output_type": "stream",
     "text": [
      "[1780. 3889.  399.  445. 1826. 1568.  587.  121.   16.    7.    8.]\n"
     ]
    },
    {
     "data": {
      "image/png": "[encoded data removed]",
      "text/plain": [
       "<Figure size 432x288 with 1 Axes>"
      ]
     },
     "metadata": {
      "needs_background": "light"
     },
     "output_type": "display_data"
    }
   ],
   "source": [
    "#histogram of labels\n",
    "print(plt.hist(labels, 11)[0])"
   ]
  },
  {
   "cell_type": "code",
   "execution_count": 12,
   "metadata": {},
   "outputs": [],
   "source": [
    "# encode age to one hot 0 ,1 \n",
    "from sklearn.preprocessing import LabelEncoder\n",
    "label_encoder = LabelEncoder()\n",
    "X[:, 1] = label_encoder.fit_transform(X[:, 1])"
   ]
  },
  {
   "cell_type": "code",
   "execution_count": 13,
   "metadata": {},
   "outputs": [],
   "source": [
    "# encode labels in mumeric form\n",
    "y = label_encoder.fit_transform(labels)"
   ]
  },
  {
   "cell_type": "code",
   "execution_count": 19,
   "metadata": {
    "collapsed": true
   },
   "outputs": [
    {
     "data": {
      "text/plain": [
       "(array([ 183.,  251.,  580.,  675., 1269., 2110., 2360., 1863., 1119.,\n",
       "         236.]),\n",
       " array([4.0, 13.4, 22.8, 32.2, 41.6, 51.0, 60.400000000000006, 69.8, 79.2,\n",
       "        88.60000000000001, 98.0], dtype=object),\n",
       " <BarContainer object of 10 artists>)"
      ]
     },
     "execution_count": 19,
     "metadata": {},
     "output_type": "execute_result"
    },
    {
     "data": {
      "image/png": "[encoded data removed]",
      "text/plain": [
       "<Figure size 432x288 with 1 Axes>"
      ]
     },
     "metadata": {
      "needs_background": "light"
     },
     "output_type": "display_data"
    }
   ],
   "source": [
    "# histogram of ages \n",
    "import matplotlib.pyplot as plt\n",
    "plt.hist(X[:,0])"
   ]
  },
  {
   "cell_type": "code",
   "execution_count": 20,
   "metadata": {
    "collapsed": true
   },
   "outputs": [
    {
     "data": {
      "text/plain": [
       "(array([1780., 3889.,  399.,  445., 1826., 1568.,  587.,  121.,   16.,\n",
       "           7.,    8.]),\n",
       " array([ 0.        ,  0.90909091,  1.81818182,  2.72727273,  3.63636364,\n",
       "         4.54545455,  5.45454545,  6.36363636,  7.27272727,  8.18181818,\n",
       "         9.09090909, 10.        ]),\n",
       " <BarContainer object of 11 artists>)"
      ]
     },
     "execution_count": 20,
     "metadata": {},
     "output_type": "execute_result"
    },
    {
     "data": {
      "image/png": "[encoded data removed]",
      "text/plain": [
       "<Figure size 432x288 with 1 Axes>"
      ]
     },
     "metadata": {
      "needs_background": "light"
     },
     "output_type": "display_data"
    }
   ],
   "source": [
    "import matplotlib.pyplot as plt\n",
    "plt.hist(labels, 11)"
   ]
  },
  {
   "cell_type": "code",
   "execution_count": null,
   "metadata": {},
   "outputs": [],
   "source": [
    "X[1, 0]"
   ]
  },
  {
   "cell_type": "code",
   "execution_count": 70,
   "metadata": {},
   "outputs": [],
   "source": [
    "# convert age values to age range(0, 1, 2)\n",
    "for i in range(X[:, 0].shape[0]):\n",
    "    if X[i, 0] <= 55:\n",
    "        X[i, 0] = 0 \n",
    "    elif X[i, 0] > 55 and X[i, 0] <=70:\n",
    "        X[i,0] = 1\n",
    "    else:\n",
    "        X[i,0] = 2"
   ]
  },
  {
   "cell_type": "code",
   "execution_count": 71,
   "metadata": {},
   "outputs": [
    {
     "data": {
      "text/plain": [
       "(array([4057.,    0.,    0.,    0.,    0., 3607.,    0.,    0.,    0.,\n",
       "        2982.]),\n",
       " array([0.0, 0.2, 0.4, 0.6000000000000001, 0.8, 1.0, 1.2000000000000002,\n",
       "        1.4000000000000001, 1.6, 1.8, 2.0], dtype=object),\n",
       " <BarContainer object of 10 artists>)"
      ]
     },
     "execution_count": 71,
     "metadata": {},
     "output_type": "execute_result"
    },
    {
     "data": {
      "image/png": "[encoded data removed]",
      "text/plain": [
       "<Figure size 432x288 with 1 Axes>"
      ]
     },
     "metadata": {
      "needs_background": "light"
     },
     "output_type": "display_data"
    }
   ],
   "source": [
    "#histogram of age range\n",
    "import matplotlib.pyplot as plt\n",
    "plt.hist(X[:,0])"
   ]
  },
  {
   "cell_type": "code",
   "execution_count": 24,
   "metadata": {},
   "outputs": [
    {
     "data": {
      "text/plain": [
       "array(['AFIB', 'SB', 'SA', ..., 'SVT', 'SVT', 'SVT'], dtype=object)"
      ]
     },
     "execution_count": 24,
     "metadata": {},
     "output_type": "execute_result"
    }
   ],
   "source": [
    "labels"
   ]
  },
  {
   "cell_type": "code",
   "execution_count": 25,
   "metadata": {},
   "outputs": [
    {
     "data": {
      "text/plain": [
       "array([ 1,  7,  5, ..., 10, 10, 10])"
      ]
     },
     "execution_count": 25,
     "metadata": {},
     "output_type": "execute_result"
    }
   ],
   "source": [
    "y"
   ]
  },
  {
   "cell_type": "code",
   "execution_count": 14,
   "metadata": {},
   "outputs": [
    {
     "name": "stdout",
     "output_type": "stream",
     "text": [
      "[ 0  1  2  3  4  5  6  7  8  9 10]\n",
      "[ 445 1780  121   16    8  399    7 3889 1826 1568  587]\n"
     ]
    }
   ],
   "source": [
    "u, c = np.unique(y, return_counts=True)\n",
    "print(u)\n",
    "print(c)"
   ]
  },
  {
   "cell_type": "code",
   "execution_count": 29,
   "metadata": {},
   "outputs": [
    {
     "data": {
      "text/plain": [
       "(10646, 12)"
      ]
     },
     "execution_count": 29,
     "metadata": {},
     "output_type": "execute_result"
    }
   ],
   "source": [
    "X.shape"
   ]
  },
  {
   "cell_type": "code",
   "execution_count": 35,
   "metadata": {},
   "outputs": [
    {
     "data": {
      "text/plain": [
       "(10646,)"
      ]
     },
     "execution_count": 35,
     "metadata": {},
     "output_type": "execute_result"
    }
   ],
   "source": [
    "y.shape"
   ]
  },
  {
   "cell_type": "code",
   "execution_count": 38,
   "metadata": {},
   "outputs": [],
   "source": [
    "# convert 7 labels to two values(0,1)\n",
    "for i in range(y.shape[0]):\n",
    "    if y[i] != 7:\n",
    "        y[i] = 0\n",
    "    else:\n",
    "        y[i] = 1\n",
    "        \n",
    "    "
   ]
  },
  {
   "cell_type": "code",
   "execution_count": 16,
   "metadata": {},
   "outputs": [],
   "source": [
    "# group labels into 4 classes\n",
    "for i in range(y.shape[0]):\n",
    "    if y[i] in (0,1):\n",
    "        y[i] = 0\n",
    "    elif y[i] in (2,3,4,6,9,10):\n",
    "        y[i] = 1\n",
    "    elif y[i] in (5,8):\n",
    "        y[i] = 2\n",
    "    else:\n",
    "        y[i] = 3"
   ]
  },
  {
   "cell_type": "code",
   "execution_count": 17,
   "metadata": {},
   "outputs": [
    {
     "name": "stdout",
     "output_type": "stream",
     "text": [
      "[0 1 2 3]\n",
      "[2225 2307 2225 3889]\n"
     ]
    }
   ],
   "source": [
    "# get unique labels and count after grouping into classes\n",
    "u, c = np.unique(y, return_counts=True)\n",
    "print(u)\n",
    "print(c)"
   ]
  },
  {
   "cell_type": "code",
   "execution_count": 45,
   "metadata": {
    "collapsed": true
   },
   "outputs": [
    {
     "data": {
      "text/plain": [
       "array([[85, 1, 117, ..., 19, 208, 265],\n",
       "       [59, 0, 52, ..., 8, 215, 261],\n",
       "       [20, 0, 67, ..., 11, 224, 265],\n",
       "       ...,\n",
       "       [39, 1, 152, ..., 25, 208, 284],\n",
       "       [76, 1, 175, ..., 29, 205, 269],\n",
       "       [75, 1, 117, ..., 19, 208, 278]], dtype=object)"
      ]
     },
     "execution_count": 45,
     "metadata": {},
     "output_type": "execute_result"
    }
   ],
   "source": [
    "X"
   ]
  },
  {
   "cell_type": "code",
   "execution_count": 37,
   "metadata": {
    "collapsed": true
   },
   "outputs": [
    {
     "name": "stdout",
     "output_type": "stream",
     "text": [
      "Mean accuracy: 0.806 (0.008)\n",
      "[[ 271  214  162   31]\n",
      " [  95  579    9    2]\n",
      " [  74   18  525   36]\n",
      " [   2    1    5 1170]]\n",
      "              precision    recall  f1-score   support\n",
      "\n",
      "           0      0.613     0.400     0.484       678\n",
      "           1      0.713     0.845     0.774       685\n",
      "           2      0.749     0.804     0.775       653\n",
      "           3      0.944     0.993     0.968      1178\n",
      "\n",
      "    accuracy                          0.797      3194\n",
      "   macro avg      0.755     0.761     0.750      3194\n",
      "weighted avg      0.784     0.797     0.784      3194\n",
      "\n"
     ]
    },
    {
     "name": "stderr",
     "output_type": "stream",
     "text": [
      "C:\\Users\\anchi\\Anaconda3\\envs\\tf_gpu\\lib\\site-packages\\sklearn\\linear_model\\_logistic.py:818: ConvergenceWarning: lbfgs failed to converge (status=1):\n",
      "STOP: TOTAL NO. of ITERATIONS REACHED LIMIT.\n",
      "\n",
      "Increase the number of iterations (max_iter) or scale the data as shown in:\n",
      "    https://scikit-learn.org/stable/modules/preprocessing.html\n",
      "Please also refer to the documentation for alternative solver options:\n",
      "    https://scikit-learn.org/stable/modules/linear_model.html#logistic-regression\n",
      "  extra_warning_msg=_LOGISTIC_SOLVER_CONVERGENCE_MSG,\n"
     ]
    }
   ],
   "source": [
    "# evaluate multinomial logistic regression model\n",
    "from numpy import mean\n",
    "from numpy import std\n",
    "from sklearn import metrics\n",
    "from sklearn.datasets import make_classification\n",
    "from sklearn.model_selection import cross_val_score\n",
    "from sklearn.model_selection import RepeatedStratifiedKFold\n",
    "from sklearn.linear_model import LogisticRegression\n",
    "from sklearn.preprocessing import MinMaxScaler, StandardScaler, LabelEncoder\n",
    "from sklearn.model_selection import KFold, cross_val_score, train_test_split, cross_validate, GridSearchCV\n",
    "from sklearn.metrics import make_scorer, accuracy_score, precision_score, recall_score, f1_score, confusion_matrix\n",
    "from sklearn.metrics import roc_curve, roc_auc_score, precision_recall_curve, f1_score, auc\n",
    "# define dataset\n",
    "\n",
    "# define the multinomial logistic regression model\n",
    "model = LogisticRegression(multi_class='multinomial', solver='lbfgs')\n",
    "#model = LogisticRegression()\n",
    "\n",
    "diagnostic_features_ar = np.asarray(diagnostic_features)\n",
    "X = diagnostic_features_ar[:, 3:15]\n",
    "labels = diagnostic_features_ar[:, 1]\n",
    "\n",
    "label_encoder = LabelEncoder()\n",
    "X[:, 1] = label_encoder.fit_transform(X[:, 1])\n",
    "labels = label_encoder.fit_transform(labels)\n",
    "y = labels\n",
    "\n",
    "# setting age regrouping for best distribution\n",
    "for i in range(X[:, 0].shape[0]):\n",
    "    if X[i, 0] <= 55:\n",
    "        X[i, 0] = 0 \n",
    "    elif X[i, 0] > 55 and X[i, 0] <=70:\n",
    "        X[i,0] = 1\n",
    "    else:\n",
    "        X[i,0] = 2\n",
    "\n",
    "# change 11 labels to 4 labels for multiple classification based on grouping system\n",
    "for i in range(y.shape[0]):\n",
    "    if y[i] in (0,1):\n",
    "        y[i] = 0\n",
    "    elif y[i] in (2,3,4,6,9,10):\n",
    "        y[i] = 1\n",
    "    elif y[i] in (5,8):\n",
    "        y[i] = 2\n",
    "    else:\n",
    "        y[i] = 3\n",
    "        \n",
    "        \n",
    "\n",
    "\n",
    "norm1 = MinMaxScaler()\n",
    "norm2 = StandardScaler()\n",
    "\n",
    "\n",
    "#for i in range(2, X.shape[1]):\n",
    "   # X[:,i] = norm2.fit_transform(X[:, i].reshape(-1,1)).squeeze()\n",
    "   # X[:,i] = norm1.fit_transform(X[:, i].reshape(-1,1)).squeeze()\n",
    "    \n",
    "# define the model evaluation procedure\n",
    "cv = RepeatedStratifiedKFold(n_splits=10, n_repeats=3, random_state=1)\n",
    "# evaluate the model and collect the scores\n",
    "n_scores = cross_val_score(model, X, y, scoring='accuracy', cv=cv, n_jobs=-1)\n",
    "# report the model performance\n",
    "print('Mean accuracy: %.3f (%.3f)' % (mean(n_scores), std(n_scores)))\n",
    "\n",
    "trainX, testX, trainy, testy = train_test_split(X, y, test_size=0.3, random_state=0)\n",
    "clf = model.fit(trainX, trainy)\n",
    "\n",
    "predict = model.predict(testX)\n",
    "\n",
    "conf_mat = confusion_matrix(testy, predict)\n",
    "\n",
    "print(conf_mat)\n",
    "\n",
    "print(metrics.classification_report(testy, predict, digits=3))"
   ]
  },
  {
   "cell_type": "code",
   "execution_count": 31,
   "metadata": {},
   "outputs": [
    {
     "data": {
      "text/plain": [
       "array([nan, nan, nan, nan, nan, nan, nan, nan, nan, nan, nan, nan, nan,\n",
       "       nan, nan, nan, nan, nan, nan, nan, nan, nan, nan, nan, nan, nan,\n",
       "       nan, nan, nan, nan])"
      ]
     },
     "execution_count": 31,
     "metadata": {},
     "output_type": "execute_result"
    }
   ],
   "source": [
    "n_scores"
   ]
  },
  {
   "cell_type": "code",
   "execution_count": 36,
   "metadata": {},
   "outputs": [
    {
     "name": "stdout",
     "output_type": "stream",
     "text": [
      "Mean accuracy: 0.914 (0.005)\n",
      "[[ 487   91   53   14]\n",
      " [  57  638    5    2]\n",
      " [  40    2  645    5]\n",
      " [   5    0    2 1148]]\n",
      "              precision    recall  f1-score   support\n",
      "\n",
      "           0      0.827     0.755     0.789       645\n",
      "           1      0.873     0.909     0.890       702\n",
      "           2      0.915     0.932     0.923       692\n",
      "           3      0.982     0.994     0.988      1155\n",
      "\n",
      "    accuracy                          0.914      3194\n",
      "   macro avg      0.899     0.897     0.898      3194\n",
      "weighted avg      0.912     0.914     0.912      3194\n",
      "\n"
     ]
    }
   ],
   "source": [
    "# evaluate random forest classifier model\n",
    "from numpy import mean\n",
    "from numpy import std\n",
    "from sklearn import metrics\n",
    "from sklearn.datasets import make_classification\n",
    "from sklearn.model_selection import cross_val_score\n",
    "from sklearn.model_selection import RepeatedStratifiedKFold\n",
    "from sklearn.linear_model import LogisticRegression\n",
    "from sklearn import svm\n",
    "from sklearn.ensemble import RandomForestClassifier\n",
    "# define dataset\n",
    "\n",
    "# define the multinomial logistic regression model\n",
    "model = RandomForestClassifier(max_depth=100, random_state=0)\n",
    "\n",
    "diagnostic_features_ar = np.asarray(diagnostic_features)\n",
    "X = diagnostic_features_ar[:, 3:15]\n",
    "labels = diagnostic_features_ar[:, 1]\n",
    "\n",
    "label_encoder = LabelEncoder()\n",
    "X[:, 1] = label_encoder.fit_transform(X[:, 1])\n",
    "labels = label_encoder.fit_transform(labels)\n",
    "\n",
    "norm1 = MinMaxScaler()\n",
    "norm2 = StandardScaler()\n",
    "\n",
    "y = labels\n",
    "\n",
    "for i in range(X[:, 0].shape[0]):\n",
    "    if X[i, 0] <= 55:\n",
    "        X[i, 0] = 0 \n",
    "    elif X[i, 0] > 55 and X[i, 0] <=70:\n",
    "        X[i,0] = 1\n",
    "    else:\n",
    "        X[i,0] = 2\n",
    "        \n",
    "# change 11 labels to 4 labels for multiple classification based on grouping system\n",
    "for i in range(y.shape[0]):\n",
    "    if y[i] in (0,1):\n",
    "        y[i] = 0\n",
    "    elif y[i] in (2,3,4,6,9,10):\n",
    "        y[i] = 1\n",
    "    elif y[i] in (5,8):\n",
    "        y[i] = 2\n",
    "    else:\n",
    "        y[i] = 3\n",
    "        \n",
    "\n",
    "\n",
    "\n",
    "#for i in range(2, X.shape[1]):\n",
    "    #X[:,i] = norm2.fit_transform(X[:, i].reshape(-1,1)).squeeze()\n",
    "   # X[:,i] = norm1.fit_transform(X[:, i].reshape(-1,1)).squeeze()\n",
    "    \n",
    "\n",
    "\n",
    "# define the model evaluation procedure\n",
    "cv = RepeatedStratifiedKFold(n_splits=5, n_repeats=3, random_state=2)\n",
    "# evaluate the model and collect the scores\n",
    "n_scores = cross_val_score(model, X, y, scoring='accuracy', cv=cv, n_jobs=-1)\n",
    "# report the model performance\n",
    "print('Mean accuracy: %.3f (%.3f)' % (mean(n_scores), std(n_scores)))\n",
    "\n",
    "trainX, testX, trainy, testy = train_test_split(X, y, test_size=0.3, random_state=1)\n",
    "clf = model.fit(trainX, trainy)\n",
    "\n",
    "predict = model.predict(testX)\n",
    "\n",
    "conf_mat = confusion_matrix(testy, predict)\n",
    "\n",
    "print(conf_mat)\n",
    "\n",
    "print(metrics.classification_report(testy, predict, digits=3))"
   ]
  },
  {
   "cell_type": "code",
   "execution_count": 25,
   "metadata": {},
   "outputs": [
    {
     "data": {
      "text/plain": [
       "array([nan, nan, nan, nan, nan, nan, nan, nan, nan, nan, nan, nan, nan,\n",
       "       nan, nan])"
      ]
     },
     "execution_count": 25,
     "metadata": {},
     "output_type": "execute_result"
    }
   ],
   "source": [
    "n_scores"
   ]
  },
  {
   "cell_type": "code",
   "execution_count": null,
   "metadata": {},
   "outputs": [],
   "source": [
    "n_scores"
   ]
  },
  {
   "cell_type": "code",
   "execution_count": 23,
   "metadata": {},
   "outputs": [
    {
     "name": "stdout",
     "output_type": "stream",
     "text": [
      "Mean Accuracy : 0.829 (0.005)\n",
      "[[ 309  203  129   37]\n",
      " [  42  631    9    3]\n",
      " [  20   44  518   71]\n",
      " [   1    1    2 1174]]\n",
      "              precision    recall  f1-score   support\n",
      "\n",
      "           0      0.831     0.456     0.589       678\n",
      "           1      0.718     0.921     0.807       685\n",
      "           2      0.787     0.793     0.790       653\n",
      "           3      0.914     0.997     0.953      1178\n",
      "\n",
      "    accuracy                          0.824      3194\n",
      "   macro avg      0.812     0.792     0.785      3194\n",
      "weighted avg      0.828     0.824     0.811      3194\n",
      "\n"
     ]
    }
   ],
   "source": [
    "# evaluate svm classifier model\n",
    "from numpy import mean\n",
    "from numpy import std\n",
    "from sklearn.datasets import make_classification\n",
    "from sklearn.model_selection import cross_val_score\n",
    "from sklearn.model_selection import RepeatedStratifiedKFold\n",
    "from sklearn.linear_model import LogisticRegression\n",
    "from sklearn import svm\n",
    "from sklearn.ensemble import RandomForestClassifier\n",
    "# define dataset\n",
    "\n",
    "# define the multinomial logistic regression model\n",
    "model = svm.SVC()\n",
    "\n",
    "#rbf = svm.SVC(kernel='rbf', gamma=0.5, C=0.1)\n",
    "#poly = svm.SVC(kernel='poly', degree=3, C=1)\n",
    "\n",
    "diagnostic_features_ar = np.asarray(diagnostic_features)\n",
    "X = diagnostic_features_ar[:, 3:15]\n",
    "labels = diagnostic_features_ar[:, 1]\n",
    "\n",
    "label_encoder = LabelEncoder()\n",
    "X[:, 1] = label_encoder.fit_transform(X[:, 1])\n",
    "labels = label_encoder.fit_transform(labels)\n",
    "\n",
    "norm1 = MinMaxScaler()\n",
    "norm2 = StandardScaler()\n",
    "\n",
    "\n",
    "y = labels\n",
    "\n",
    "for i in range(X[:, 0].shape[0]):\n",
    "    if X[i, 0] <= 55:\n",
    "        X[i, 0] = 0 \n",
    "    elif X[i, 0] > 55 and X[i, 0] <=70:\n",
    "        X[i,0] = 1\n",
    "    else:\n",
    "        X[i,0] = 2\n",
    "        \n",
    "# change 11 labels to 4 labels for multiple classification based on grouping system\n",
    "for i in range(y.shape[0]):\n",
    "    if y[i] in (0,1):\n",
    "        y[i] = 0\n",
    "    elif y[i] in (2,3,4,6,9,10):\n",
    "        y[i] = 1\n",
    "    elif y[i] in (5,8):\n",
    "        y[i] = 2\n",
    "    else:\n",
    "        y[i] = 3\n",
    "\n",
    "\n",
    "#for i in range(2, X.shape[1]):\n",
    "   # X[:,i] = norm2.fit_transform(X[:, i].reshape(-1,1)).squeeze()\n",
    "   # X[:,i] = norm1.fit_transform(X[:, i].reshape(-1,1)).squeeze()\n",
    "    \n",
    "# define the model evaluation procedure\n",
    "cv = RepeatedStratifiedKFold(n_splits=5, n_repeats=3, random_state=1)\n",
    "# evaluate the model and collect the scores\n",
    "n_scores = cross_val_score(model, X, y, scoring='accuracy', cv=cv, n_jobs=-1)\n",
    "# report the model performance\n",
    "print('Mean Accuracy : %.3f (%.3f)' % (mean(n_scores), std(n_scores)))\n",
    "\n",
    "#n_scores = cross_val_score(poly, X, y, scoring='accuracy', cv=cv, n_jobs=-1)\n",
    "# report the model performance\n",
    "#print('Mean Accuracy rbf: %.3f (%.3f)' % (mean(n_scores), std(n_scores)))\n",
    "\n",
    "trainX, testX, trainy, testy = train_test_split(X, y, test_size=0.3, random_state=0)\n",
    "clf = model.fit(trainX, trainy)\n",
    "\n",
    "predict = model.predict(testX)\n",
    "\n",
    "conf_mat = confusion_matrix(testy, predict)\n",
    "\n",
    "print(conf_mat)\n",
    "\n",
    "print(metrics.classification_report(testy, predict, digits=3))\n",
    "\n"
   ]
  },
  {
   "cell_type": "code",
   "execution_count": 40,
   "metadata": {},
   "outputs": [
    {
     "name": "stderr",
     "output_type": "stream",
     "text": [
      "C:\\Users\\anchi\\Anaconda3\\envs\\tf_gpu\\lib\\site-packages\\xgboost\\sklearn.py:1224: UserWarning: The use of label encoder in XGBClassifier is deprecated and will be removed in a future release. To remove this warning, do the following: 1) Pass option use_label_encoder=False when constructing XGBClassifier object; and 2) Encode your labels (y) as integers starting with 0, i.e. 0, 1, 2, ..., [num_class - 1].\n",
      "  warnings.warn(label_encoder_deprecation_msg, UserWarning)\n"
     ]
    },
    {
     "name": "stdout",
     "output_type": "stream",
     "text": [
      "[09:21:22] WARNING: C:/Users/Administrator/workspace/xgboost-win64_release_1.5.1/src/learner.cc:1115: Starting in XGBoost 1.3.0, the default evaluation metric used with the objective 'multi:softprob' was changed from 'merror' to 'mlogloss'. Explicitly set eval_metric if you'd like to restore the old behavior.\n",
      "Accuracy: 92.20%\n",
      "[[ 568  101   52   18]\n",
      " [  55  682    8    2]\n",
      " [  16    2  702    9]\n",
      " [   7    0    4 1288]]\n",
      "              precision    recall  f1-score   support\n",
      "\n",
      "           0      0.879     0.769     0.820       739\n",
      "           1      0.869     0.913     0.890       747\n",
      "           2      0.916     0.963     0.939       729\n",
      "           3      0.978     0.992     0.985      1299\n",
      "\n",
      "    accuracy                          0.922      3514\n",
      "   macro avg      0.911     0.909     0.909      3514\n",
      "weighted avg      0.921     0.922     0.921      3514\n",
      "\n"
     ]
    }
   ],
   "source": [
    "# XGBoost \n",
    "from xgboost import XGBClassifier\n",
    "from sklearn.model_selection import train_test_split\n",
    "from sklearn.metrics import accuracy_score\n",
    "from numpy import mean\n",
    "from numpy import std\n",
    "from sklearn.datasets import make_classification\n",
    "from sklearn.model_selection import cross_val_score\n",
    "from sklearn.model_selection import RepeatedStratifiedKFold\n",
    "from sklearn.linear_model import LogisticRegression\n",
    "from sklearn import svm\n",
    "from sklearn.ensemble import RandomForestClassifier\n",
    "\n",
    "diagnostic_features_ar = np.asarray(diagnostic_features)\n",
    "X = diagnostic_features_ar[:, 3:15]\n",
    "labels = diagnostic_features_ar[:, 1]\n",
    "\n",
    "label_encoder = LabelEncoder()\n",
    "X[:, 1] = label_encoder.fit_transform(X[:, 1])\n",
    "labels = label_encoder.fit_transform(labels)\n",
    "\n",
    "norm1 = MinMaxScaler()\n",
    "norm2 = StandardScaler()\n",
    "\n",
    "\n",
    "y = labels\n",
    "\n",
    "for i in range(X[:, 0].shape[0]):\n",
    "    if X[i, 0] <= 55:\n",
    "        X[i, 0] = 0 \n",
    "    elif X[i, 0] > 55 and X[i, 0] <=70:\n",
    "        X[i,0] = 1\n",
    "    else:\n",
    "        X[i,0] = 2\n",
    "        \n",
    "# change 11 labels to 4 labels for multiple classification based on grouping system\n",
    "for i in range(y.shape[0]):\n",
    "    if y[i] in (0,1):\n",
    "        y[i] = 0\n",
    "    elif y[i] in (2,3,4,6,9,10):\n",
    "        y[i] = 1\n",
    "    elif y[i] in (5,8):\n",
    "        y[i] = 2\n",
    "    else:\n",
    "        y[i] = 3\n",
    "\n",
    "seed = 7\n",
    "test_size = 0.33\n",
    "X_train, X_test, y_train, y_test = train_test_split(X, y, test_size=test_size, random_state=seed)\n",
    "\n",
    "\n",
    "# fit model no training data\n",
    "model = XGBClassifier()\n",
    "model.fit(X_train, y_train)\n",
    "\n",
    "\n",
    "# make predictions for test data\n",
    "y_pred = model.predict(X_test)\n",
    "predictions = [round(value) for value in y_pred]\n",
    "\n",
    "# evaluate predictions\n",
    "accuracy = accuracy_score(y_test, predictions)\n",
    "print(\"Accuracy: %.2f%%\" % (accuracy * 100.0))\n",
    "\n",
    "conf_mat = confusion_matrix(y_test, predictions)\n",
    "\n",
    "print(conf_mat)\n",
    "\n",
    "print(metrics.classification_report(y_test, predictions, digits=3))"
   ]
  },
  {
   "cell_type": "code",
   "execution_count": 53,
   "metadata": {},
   "outputs": [
    {
     "name": "stdout",
     "output_type": "stream",
     "text": [
      "Accuracy: 0.977 (0.003)\n",
      "Precision: 0.945 (0.007)\n",
      "Recall: 0.995 (0.002)\n",
      "F1_Score: 0.969 (0.004)\n"
     ]
    }
   ],
   "source": [
    "#20 random test split\n",
    "\n",
    "from numpy import mean\n",
    "from numpy import std\n",
    "from sklearn import svm\n",
    "from sklearn.ensemble import RandomForestClassifier\n",
    "from sklearn.linear_model import LogisticRegression\n",
    "from sklearn.preprocessing import MinMaxScaler, StandardScaler, LabelEncoder\n",
    "from sklearn.compose import make_column_transformer\n",
    "from sklearn.model_selection import KFold, cross_val_score, train_test_split, cross_validate, GridSearchCV\n",
    "\n",
    "from sklearn.metrics import make_scorer, accuracy_score, precision_score, recall_score, f1_score, confusion_matrix\n",
    "from sklearn.metrics import roc_curve, roc_auc_score, precision_recall_curve, f1_score, auc\n",
    "\n",
    "#cv = KFold(n_splits=10, random_state=1, shuffle=True)\n",
    "# create model\n",
    "#w = {0:1, 1: 1}\n",
    "model = LogisticRegression(multi_class='multinomial', solver='lbfgs')\n",
    "\n",
    "diagnostic_features_ar = np.asarray(diagnostic_features)\n",
    "X = diagnostic_features_ar[:, 3:15]\n",
    "labels = diagnostic_features_ar[:, 1]\n",
    "\n",
    "label_encoder = LabelEncoder()\n",
    "X[:, 1] = label_encoder.fit_transform(X[:, 1])\n",
    "labels = label_encoder.fit_transform(labels)\n",
    "\n",
    "y = labels\n",
    "\n",
    "\n",
    "for i in range(X[:, 0].shape[0]):\n",
    "    if X[i, 0] <= 55:\n",
    "        X[i, 0] = 0 \n",
    "    elif X[i, 0] > 55 and X[i, 0] <=70:\n",
    "        X[i,0] = 1\n",
    "    else:\n",
    "        X[i,0] = 2\n",
    "        \n",
    "for i in range(y.shape[0]):\n",
    "    if y[i] != 7:\n",
    "        y[i] = 0\n",
    "    else:\n",
    "        y[i] = 1\n",
    "\n",
    "#X[:,0] = np.sqrt(X[:,0])\n",
    "\n",
    "norm1 = MinMaxScaler()\n",
    "norm2 = StandardScaler()\n",
    "\n",
    "\n",
    "\n",
    "#for i in range(2, X.shape[1]):\n",
    "#    X[:,i] = norm2.fit_transform(X[:, i].reshape(-1,1)).squeeze()\n",
    "#    X[:,i] = norm1.fit_transform(X[:, i].reshape(-1,1)).squeeze()\n",
    "    \n",
    "# evaluate model\n",
    "#############\n",
    "\n",
    "\n",
    "#cv = KFold(n_splits=10, random_state=1, shuffle=True)\n",
    "RepeatedStratifiedKFold(n_splits=10, n_repeats=3, random_state=1)\n",
    "    \n",
    "scoring = {'accuracy' : make_scorer(accuracy_score), \n",
    "       'precision' : make_scorer(precision_score),\n",
    "      'recall' : make_scorer(recall_score), \n",
    "       'f1_score' : make_scorer(f1_score)}\n",
    "\n",
    "scores = cross_validate(model, X, y, scoring=scoring, cv=cv, n_jobs=-1)\n",
    "\n",
    "#report performance\n",
    "print('Accuracy: %.3f (%.3f)' % (mean(scores['test_accuracy']), std(scores['test_accuracy'])))\n",
    "print('Precision: %.3f (%.3f)' % (mean(scores['test_precision']), std(scores['test_precision'])))\n",
    "print('Recall: %.3f (%.3f)' % (mean(scores['test_recall']), std(scores['test_recall'])))\n",
    "print('F1_Score: %.3f (%.3f)' % (mean(scores['test_f1_score']), std(scores['test_f1_score'])))\n",
    "\n",
    "\n",
    "\n",
    "  \n",
    "#penalty = ['l1', 'l2', 'elasticnet']\n",
    "#C = [0.5, 0.6, 0.7, 0.8]\n",
    "#class_weight = [{1:5, 0:1}, {1:6, 0:1}, {1:4, 0:1}, {1:3, 0:1}, {1:1, 0:1}]\n",
    "#solver = ['newton-cg', 'lbfgs', 'liblinear', 'sag', 'saga']\n",
    "#max_iter = [100, 500, 1000]\n",
    "\n",
    "#param_grid = dict(penalty=penalty, C=C, solver=solver, max_iter=max_iter)\n",
    "\n",
    "#lr_cv = GridSearchCV(estimator=model, param_grid=param_grid, scoring= make_scorer(roc_auc_score),\n",
    "#                   verbose=1, n_jobs=-1, cv=10)\n",
    "#lr_cv.fit(X, y)\n",
    "#best_params = lr_cv.best_params_\n",
    "#print(f\"Best parameters: {best_params}\")\n",
    "\n",
    "#model = LogisticRegression(max_iter = 1000)\n",
    "\n",
    "#auc_l =[]\n",
    "#f1_l = []\n",
    "\n",
    "#for i in range(20):\n",
    "#    trainX, testX, trainy, testy = train_test_split(X, y, test_size=0.3, random_state=i)\n",
    "\n",
    "    #ns_probs = [0 for _ in range(testy.shape[0])]\n",
    "\n",
    "#    clf = model.fit(trainX, trainy)\n",
    "\n",
    "#    predict = model.predict(testX)\n",
    "\n",
    "#    conf_mat = confusion_matrix(testy, predict)\n",
    "\n",
    "#    print(conf_mat)\n",
    "\n",
    "\n",
    "##\n",
    "\n",
    "#model2 = RandomForestClassifier(max_depth=2, random_state=0)\n",
    "\n",
    "#clf2 = model2.fit(trainX, trainy)\n",
    "\n",
    "#predict = model2.predict(testX)\n",
    "\n",
    "#conf_mat2 = confusion_matrix(testy, predict)\n",
    "\n",
    "#print(conf_mat2)\n",
    "\n",
    "## \n",
    "#model3 = svm.SVC()\n",
    "\n",
    "#clf3 = model3.fit(trainX, trainy)\n",
    "\n",
    "#predict = model3.predict(testX)\n",
    "\n",
    "#conf_mat3 = confusion_matrix(testy, predict)\n",
    "\n",
    "#print(conf_mat3)\n",
    "\n",
    "# ROC curve\n",
    "\n",
    " "
   ]
  },
  {
   "cell_type": "markdown",
   "metadata": {},
   "source": [
    "# Correlation between features"
   ]
  },
  {
   "cell_type": "code",
   "execution_count": 54,
   "metadata": {},
   "outputs": [],
   "source": [
    "import scipy"
   ]
  },
  {
   "cell_type": "code",
   "execution_count": 55,
   "metadata": {},
   "outputs": [],
   "source": [
    "diagnostic_features_ar = np.asarray(diagnostic_features)\n",
    "X = diagnostic_features_ar[:, 3:15]"
   ]
  },
  {
   "cell_type": "code",
   "execution_count": 57,
   "metadata": {},
   "outputs": [],
   "source": [
    "label_encoder = LabelEncoder()\n",
    "X[:, 1] = label_encoder.fit_transform(X[:, 1])"
   ]
  },
  {
   "cell_type": "code",
   "execution_count": 60,
   "metadata": {},
   "outputs": [
    {
     "data": {
      "text/plain": [
       "(10646, 12)"
      ]
     },
     "execution_count": 60,
     "metadata": {},
     "output_type": "execute_result"
    }
   ],
   "source": [
    "X.shape"
   ]
  },
  {
   "cell_type": "code",
   "execution_count": 62,
   "metadata": {},
   "outputs": [
    {
     "data": {
      "text/plain": [
       "0.0"
      ]
     },
     "execution_count": 62,
     "metadata": {},
     "output_type": "execute_result"
    }
   ],
   "source": [
    "scipy.stats.pearsonr(X[:, 2], X[:, 3])[1]"
   ]
  },
  {
   "cell_type": "code",
   "execution_count": 67,
   "metadata": {
    "collapsed": true
   },
   "outputs": [
    {
     "name": "stdout",
     "output_type": "stream",
     "text": [
      "Pearson correlation of feature2 and feature3 = 0.5333395351012189 p_value = 0.0\n",
      "Pearson correlation of feature2 and feature4 = -0.05484732397315045 p_value = 1.4899653524485962e-08\n",
      "Pearson correlation of feature2 and feature5 = -0.8531689575613922 p_value = 0.0\n",
      "Pearson correlation of feature2 and feature6 = 0.42167227568847754 p_value = 0.0\n",
      "Pearson correlation of feature2 and feature7 = 0.09143699575141209 p_value = 3.2888203225882616e-21\n",
      "Pearson correlation of feature2 and feature8 = 0.10420074602696262 p_value = 4.3036976514177455e-27\n",
      "Pearson correlation of feature2 and feature9 = 0.9970715121893723 p_value = 0.0\n",
      "Pearson correlation of feature2 and feature10 = 0.011265529999519183 p_value = 0.24512514245787637\n",
      "Pearson correlation of feature2 and feature11 = -0.048688169493821626 p_value = 5.007908277639086e-07\n",
      "Pearson correlation of feature3 and feature4 = -0.06014813823770229 p_value = 5.26662727621062e-10\n",
      "Pearson correlation of feature3 and feature5 = -0.4740838095432183 p_value = 0.0\n",
      "Pearson correlation of feature3 and feature6 = 0.2520166456286566 p_value = 6.609744492355888e-154\n",
      "Pearson correlation of feature3 and feature7 = 0.05185540840837648 p_value = 8.632333851975802e-08\n",
      "Pearson correlation of feature3 and feature8 = 0.05037708888668099 p_value = 1.9867582416939653e-07\n",
      "Pearson correlation of feature3 and feature9 = 0.5305874203616766 p_value = 0.0\n",
      "Pearson correlation of feature3 and feature10 = 0.037640266625107235 p_value = 0.00010248893105673303\n",
      "Pearson correlation of feature3 and feature11 = -0.034009467957284406 p_value = 0.00044864365791088607\n",
      "Pearson correlation of feature4 and feature5 = 0.19612127585028405 p_value = 8.68080849895969e-93\n",
      "Pearson correlation of feature4 and feature6 = 0.18876022267100007 p_value = 5.6922823896597246e-86\n",
      "Pearson correlation of feature4 and feature7 = -0.08462027596463333 p_value = 2.215629197464365e-18\n",
      "Pearson correlation of feature4 and feature8 = 0.009284556709218919 p_value = 0.3381214262478674\n",
      "Pearson correlation of feature4 and feature9 = -0.053868194779469594 p_value = 2.6750192255042305e-08\n",
      "Pearson correlation of feature4 and feature10 = -0.42437729743038843 p_value = 0.0\n",
      "Pearson correlation of feature4 and feature11 = 0.7198337900267493 p_value = 0.0\n",
      "Pearson correlation of feature5 and feature6 = 0.025108493466317716 p_value = 0.009575732646289718\n",
      "Pearson correlation of feature5 and feature7 = -0.1232689175597595 p_value = 2.5374174908182245e-37\n",
      "Pearson correlation of feature5 and feature8 = -0.05662708018594385 p_value = 5.012496702530814e-09\n",
      "Pearson correlation of feature5 and feature9 = -0.8505188307507678 p_value = 0.0\n",
      "Pearson correlation of feature5 and feature10 = -0.08254106062175892 p_value = 1.4622165284277468e-17\n",
      "Pearson correlation of feature5 and feature11 = 0.1417024163101201 p_value = 7.120703946976568e-49\n",
      "Pearson correlation of feature6 and feature7 = -0.04815626135590939 p_value = 6.65956186531419e-07\n",
      "Pearson correlation of feature6 and feature8 = 0.07195237934111948 p_value = 1.0634644895930877e-13\n",
      "Pearson correlation of feature6 and feature9 = 0.42048794977147963 p_value = 0.0\n",
      "Pearson correlation of feature6 and feature10 = -0.12595544497168443 p_value = 6.655635421849924e-39\n",
      "Pearson correlation of feature6 and feature11 = 0.10072739284185026 p_value = 2.046158087290587e-25\n",
      "Pearson correlation of feature7 and feature8 = 0.0465934077271691 p_value = 1.5128565706024164e-06\n",
      "Pearson correlation of feature7 and feature9 = 0.0908570682727205 p_value = 5.836294823476219e-21\n",
      "Pearson correlation of feature7 and feature10 = 0.061944746919786256 p_value = 1.5864815448310199e-10\n",
      "Pearson correlation of feature7 and feature11 = -0.04095496751887928 p_value = 2.3683984463270442e-05\n",
      "Pearson correlation of feature8 and feature9 = 0.10375302687308877 p_value = 7.132262495239068e-27\n",
      "Pearson correlation of feature8 and feature10 = -0.07557571419289666 p_value = 5.805030506649489e-15\n",
      "Pearson correlation of feature8 and feature11 = -0.04823258600233929 p_value = 6.393831158346721e-07\n",
      "Pearson correlation of feature9 and feature10 = 0.010224195672905254 p_value = 0.2915027899261594\n",
      "Pearson correlation of feature9 and feature11 = -0.04846310923291791 p_value = 5.651834648618735e-07\n",
      "Pearson correlation of feature10 and feature11 = 0.3230584092778184 p_value = 4.128114049268326e-257\n"
     ]
    }
   ],
   "source": [
    "for i in range(2, 12):\n",
    "    for j in range(i+1, 12):\n",
    "        print(\"Pearson correlation of feature\" + str(i) + \" and feature\" + str(j) + \" = \" + str(scipy.stats.pearsonr(X[:, i], X[:, j])[0]) + \" p_value = \" + str(scipy.stats.pearsonr(X[:, i], X[:, j])[1]))\n",
    "                "
   ]
  },
  {
   "cell_type": "markdown",
   "metadata": {},
   "source": [
    "# Signal Processing Features"
   ]
  },
  {
   "cell_type": "code",
   "execution_count": null,
   "metadata": {},
   "outputs": [],
   "source": []
  },
  {
   "cell_type": "code",
   "execution_count": null,
   "metadata": {},
   "outputs": [],
   "source": [
    "folders = sorted(glob.glob('*.csv'))\n",
    "folders"
   ]
  },
  {
   "cell_type": "code",
   "execution_count": null,
   "metadata": {},
   "outputs": [],
   "source": [
    "folders[0]"
   ]
  },
  {
   "cell_type": "code",
   "execution_count": null,
   "metadata": {},
   "outputs": [],
   "source": [
    "f = pd.read_csv(folders[0])"
   ]
  },
  {
   "cell_type": "code",
   "execution_count": null,
   "metadata": {},
   "outputs": [],
   "source": [
    "f_arr = np.asarray(f)"
   ]
  },
  {
   "cell_type": "code",
   "execution_count": null,
   "metadata": {},
   "outputs": [],
   "source": [
    "f_arr[:,0].shape"
   ]
  },
  {
   "cell_type": "code",
   "execution_count": null,
   "metadata": {},
   "outputs": [],
   "source": [
    "plt.plot(np.arange(5000), f_arr[:,0])"
   ]
  },
  {
   "cell_type": "code",
   "execution_count": null,
   "metadata": {},
   "outputs": [],
   "source": [
    "plt.plot(np.arange(5000), f_arr[:,1])\n",
    "    \n",
    "    "
   ]
  },
  {
   "cell_type": "code",
   "execution_count": null,
   "metadata": {},
   "outputs": [],
   "source": [
    "plt.plot(np.arange(5000), f_arr[:,2])"
   ]
  },
  {
   "cell_type": "code",
   "execution_count": null,
   "metadata": {},
   "outputs": [],
   "source": [
    "plt.plot(np.arange(5000), f_arr[:,3])"
   ]
  },
  {
   "cell_type": "code",
   "execution_count": null,
   "metadata": {},
   "outputs": [],
   "source": [
    "plt.plot(np.arange(5000), f_arr[:,4])"
   ]
  },
  {
   "cell_type": "code",
   "execution_count": null,
   "metadata": {},
   "outputs": [],
   "source": [
    "plt.plot(np.arange(5000), f_arr[:,5])"
   ]
  },
  {
   "cell_type": "code",
   "execution_count": null,
   "metadata": {},
   "outputs": [],
   "source": [
    "plt.plot(np.arange(5000), f_arr[:,6])"
   ]
  },
  {
   "cell_type": "code",
   "execution_count": null,
   "metadata": {},
   "outputs": [],
   "source": [
    "plt.plot(np.arange(5000), f_arr[:,7])"
   ]
  },
  {
   "cell_type": "code",
   "execution_count": null,
   "metadata": {},
   "outputs": [],
   "source": [
    "plt.plot(np.arange(5000), f_arr[:,8])"
   ]
  },
  {
   "cell_type": "code",
   "execution_count": null,
   "metadata": {},
   "outputs": [],
   "source": [
    "plt.plot(np.arange(5000), f_arr[:,9])"
   ]
  },
  {
   "cell_type": "code",
   "execution_count": null,
   "metadata": {},
   "outputs": [],
   "source": [
    "plt.plot(np.arange(5000), f_arr[:,10])"
   ]
  },
  {
   "cell_type": "code",
   "execution_count": null,
   "metadata": {},
   "outputs": [],
   "source": [
    "plt.plot(np.arange(5000), f_arr[:,11])"
   ]
  },
  {
   "cell_type": "code",
   "execution_count": null,
   "metadata": {},
   "outputs": [],
   "source": []
  },
  {
   "cell_type": "code",
   "execution_count": null,
   "metadata": {},
   "outputs": [],
   "source": []
  }
 ],
 "metadata": {
  "kernelspec": {
   "display_name": "Python 3",
   "language": "python",
   "name": "python3"
  },
  "language_info": {
   "codemirror_mode": {
    "name": "ipython",
    "version": 3
   },
   "file_extension": ".py",
   "mimetype": "text/x-python",
   "name": "python",
   "nbconvert_exporter": "python",
   "pygments_lexer": "ipython3",
   "version": "3.7.9"
  }
 },
 "nbformat": 4,
 "nbformat_minor": 4
}
